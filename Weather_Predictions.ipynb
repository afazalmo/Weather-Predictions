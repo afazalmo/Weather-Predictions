{
 "cells": [
  {
   "cell_type": "markdown",
   "id": "cf7df7ae-95f2-40f6-bcd2-644f062d6605",
   "metadata": {},
   "source": [
    "## Predicting Toronto's Weather\n",
    "\n",
    "In this project we'll be predicting the weather in Toronto using historical data from NOAA (National Oceanic and Atmospheric Admnistration):\n",
    "\n",
    "- Starting with storing and cleaning the data\n",
    "\n",
    "- Preparing the data for machine learning\n",
    "\n",
    "- Finally we'll train our machine learning model and evaluate its efficacy with our dataset"
   ]
  },
  {
   "cell_type": "code",
   "execution_count": 1,
   "id": "ac1e3096-5f99-4739-933e-c5e14a768dc8",
   "metadata": {},
   "outputs": [],
   "source": [
    "import pandas as pd\n",
    "\n",
    "## Read data in using pandas\n",
    "weather = pd.read_csv(\"Pearson_Weather.csv\", index_col=\"DATE\")"
   ]
  },
  {
   "cell_type": "markdown",
   "id": "bab39ecb-a402-4936-abe1-b606ffc59778",
   "metadata": {},
   "source": [
    "We'll use the data column as our index for easier access to weather on specific date ranges"
   ]
  },
  {
   "cell_type": "code",
   "execution_count": 2,
   "id": "3f327e5b-6f3b-4f98-8cb5-b9c9cba0e319",
   "metadata": {},
   "outputs": [
    {
     "data": {
      "text/html": [
       "<div>\n",
       "<style scoped>\n",
       "    .dataframe tbody tr th:only-of-type {\n",
       "        vertical-align: middle;\n",
       "    }\n",
       "\n",
       "    .dataframe tbody tr th {\n",
       "        vertical-align: top;\n",
       "    }\n",
       "\n",
       "    .dataframe thead th {\n",
       "        text-align: right;\n",
       "    }\n",
       "</style>\n",
       "<table border=\"1\" class=\"dataframe\">\n",
       "  <thead>\n",
       "    <tr style=\"text-align: right;\">\n",
       "      <th></th>\n",
       "      <th>STATION</th>\n",
       "      <th>NAME</th>\n",
       "      <th>PRCP</th>\n",
       "      <th>SNOW</th>\n",
       "      <th>SNWD</th>\n",
       "      <th>TAVG</th>\n",
       "      <th>TMAX</th>\n",
       "      <th>TMIN</th>\n",
       "      <th>WDFG</th>\n",
       "      <th>WSFG</th>\n",
       "    </tr>\n",
       "    <tr>\n",
       "      <th>DATE</th>\n",
       "      <th></th>\n",
       "      <th></th>\n",
       "      <th></th>\n",
       "      <th></th>\n",
       "      <th></th>\n",
       "      <th></th>\n",
       "      <th></th>\n",
       "      <th></th>\n",
       "      <th></th>\n",
       "      <th></th>\n",
       "    </tr>\n",
       "  </thead>\n",
       "  <tbody>\n",
       "    <tr>\n",
       "      <th>2013-06-13</th>\n",
       "      <td>CA006158731</td>\n",
       "      <td>TORONTO INTERNATIONAL A, ON CA</td>\n",
       "      <td>0.42</td>\n",
       "      <td>0.0</td>\n",
       "      <td>NaN</td>\n",
       "      <td>NaN</td>\n",
       "      <td>73.0</td>\n",
       "      <td>58.0</td>\n",
       "      <td>NaN</td>\n",
       "      <td>NaN</td>\n",
       "    </tr>\n",
       "    <tr>\n",
       "      <th>2013-06-14</th>\n",
       "      <td>CA006158731</td>\n",
       "      <td>TORONTO INTERNATIONAL A, ON CA</td>\n",
       "      <td>0.00</td>\n",
       "      <td>0.0</td>\n",
       "      <td>NaN</td>\n",
       "      <td>NaN</td>\n",
       "      <td>73.0</td>\n",
       "      <td>55.0</td>\n",
       "      <td>NaN</td>\n",
       "      <td>NaN</td>\n",
       "    </tr>\n",
       "    <tr>\n",
       "      <th>2013-06-15</th>\n",
       "      <td>CA006158731</td>\n",
       "      <td>TORONTO INTERNATIONAL A, ON CA</td>\n",
       "      <td>0.00</td>\n",
       "      <td>0.0</td>\n",
       "      <td>NaN</td>\n",
       "      <td>NaN</td>\n",
       "      <td>78.0</td>\n",
       "      <td>50.0</td>\n",
       "      <td>NaN</td>\n",
       "      <td>NaN</td>\n",
       "    </tr>\n",
       "    <tr>\n",
       "      <th>2013-06-16</th>\n",
       "      <td>CA006158731</td>\n",
       "      <td>TORONTO INTERNATIONAL A, ON CA</td>\n",
       "      <td>0.38</td>\n",
       "      <td>0.0</td>\n",
       "      <td>NaN</td>\n",
       "      <td>NaN</td>\n",
       "      <td>79.0</td>\n",
       "      <td>62.0</td>\n",
       "      <td>NaN</td>\n",
       "      <td>NaN</td>\n",
       "    </tr>\n",
       "    <tr>\n",
       "      <th>2013-06-17</th>\n",
       "      <td>CA006158731</td>\n",
       "      <td>TORONTO INTERNATIONAL A, ON CA</td>\n",
       "      <td>0.00</td>\n",
       "      <td>0.0</td>\n",
       "      <td>NaN</td>\n",
       "      <td>NaN</td>\n",
       "      <td>76.0</td>\n",
       "      <td>58.0</td>\n",
       "      <td>NaN</td>\n",
       "      <td>NaN</td>\n",
       "    </tr>\n",
       "  </tbody>\n",
       "</table>\n",
       "</div>"
      ],
      "text/plain": [
       "                STATION                            NAME  PRCP  SNOW  SNWD  \\\n",
       "DATE                                                                        \n",
       "2013-06-13  CA006158731  TORONTO INTERNATIONAL A, ON CA  0.42   0.0   NaN   \n",
       "2013-06-14  CA006158731  TORONTO INTERNATIONAL A, ON CA  0.00   0.0   NaN   \n",
       "2013-06-15  CA006158731  TORONTO INTERNATIONAL A, ON CA  0.00   0.0   NaN   \n",
       "2013-06-16  CA006158731  TORONTO INTERNATIONAL A, ON CA  0.38   0.0   NaN   \n",
       "2013-06-17  CA006158731  TORONTO INTERNATIONAL A, ON CA  0.00   0.0   NaN   \n",
       "\n",
       "            TAVG  TMAX  TMIN  WDFG  WSFG  \n",
       "DATE                                      \n",
       "2013-06-13   NaN  73.0  58.0   NaN   NaN  \n",
       "2013-06-14   NaN  73.0  55.0   NaN   NaN  \n",
       "2013-06-15   NaN  78.0  50.0   NaN   NaN  \n",
       "2013-06-16   NaN  79.0  62.0   NaN   NaN  \n",
       "2013-06-17   NaN  76.0  58.0   NaN   NaN  "
      ]
     },
     "execution_count": 2,
     "metadata": {},
     "output_type": "execute_result"
    }
   ],
   "source": [
    "## Display the first 5 rows of the data\n",
    "weather.head()"
   ]
  },
  {
   "cell_type": "code",
   "execution_count": 3,
   "id": "c47864a0-4a6d-4789-8e4b-9fdf2a71f1cb",
   "metadata": {},
   "outputs": [
    {
     "name": "stdout",
     "output_type": "stream",
     "text": [
      "<class 'pandas.core.frame.DataFrame'>\n",
      "Index: 3121 entries, 2013-06-13 to 2022-02-12\n",
      "Data columns (total 10 columns):\n",
      " #   Column   Non-Null Count  Dtype  \n",
      "---  ------   --------------  -----  \n",
      " 0   STATION  3121 non-null   object \n",
      " 1   NAME     3121 non-null   object \n",
      " 2   PRCP     3103 non-null   float64\n",
      " 3   SNOW     3104 non-null   float64\n",
      " 4   SNWD     802 non-null    float64\n",
      " 5   TAVG     2456 non-null   float64\n",
      " 6   TMAX     3108 non-null   float64\n",
      " 7   TMIN     3108 non-null   float64\n",
      " 8   WDFG     2314 non-null   float64\n",
      " 9   WSFG     2281 non-null   float64\n",
      "dtypes: float64(8), object(2)\n",
      "memory usage: 268.2+ KB\n"
     ]
    }
   ],
   "source": [
    "weather.info()"
   ]
  },
  {
   "cell_type": "markdown",
   "id": "ce6050ee-488d-4734-a876-1c5bea5dbf55",
   "metadata": {},
   "source": [
    "There are some columns that aren't needed for our analysis.\n",
    "\n",
    "Let's select the most important columns from the dataset:"
   ]
  },
  {
   "cell_type": "code",
   "execution_count": 4,
   "id": "066ab92f-799b-4b51-8e3a-17ace81a8a6d",
   "metadata": {},
   "outputs": [],
   "source": [
    "## Create a copy of needed columns \n",
    "core_weather = weather[[\"PRCP\",\"SNOW\",\"SNWD\",\"TMAX\",\"TMIN\"]].copy()"
   ]
  },
  {
   "cell_type": "code",
   "execution_count": 5,
   "id": "add30202-afcd-4a7b-8b1c-bc26bb2a2259",
   "metadata": {},
   "outputs": [],
   "source": [
    "## Rename columns\n",
    "core_weather.columns = [\"precip\",\"snow\",\"snow_depth\",\"temp_max\",\"temp_min\"]"
   ]
  },
  {
   "cell_type": "code",
   "execution_count": 6,
   "id": "7aeb9720-699f-4c69-9a74-70e2d0a28134",
   "metadata": {},
   "outputs": [
    {
     "name": "stdout",
     "output_type": "stream",
     "text": [
      "<class 'pandas.core.frame.DataFrame'>\n",
      "Index: 3121 entries, 2013-06-13 to 2022-02-12\n",
      "Data columns (total 5 columns):\n",
      " #   Column      Non-Null Count  Dtype  \n",
      "---  ------      --------------  -----  \n",
      " 0   precip      3103 non-null   float64\n",
      " 1   snow        3104 non-null   float64\n",
      " 2   snow_depth  802 non-null    float64\n",
      " 3   temp_max    3108 non-null   float64\n",
      " 4   temp_min    3108 non-null   float64\n",
      "dtypes: float64(5)\n",
      "memory usage: 146.3+ KB\n"
     ]
    }
   ],
   "source": [
    "core_weather.info()"
   ]
  },
  {
   "cell_type": "markdown",
   "id": "3c1d3e17-835c-4f9f-b423-5f7c23e26387",
   "metadata": {},
   "source": [
    "## Dealing with Null Values"
   ]
  },
  {
   "cell_type": "code",
   "execution_count": 7,
   "id": "b7fa1467-3781-46ab-b574-78d7e2ca4984",
   "metadata": {},
   "outputs": [
    {
     "data": {
      "text/plain": [
       "precip        0.005767\n",
       "snow          0.005447\n",
       "snow_depth    0.743031\n",
       "temp_max      0.004165\n",
       "temp_min      0.004165\n",
       "dtype: float64"
      ]
     },
     "execution_count": 7,
     "metadata": {},
     "output_type": "execute_result"
    }
   ],
   "source": [
    "## Show percentage of null values in each column\n",
    "core_weather.apply(pd.isnull).sum() / weather.shape[0]"
   ]
  },
  {
   "cell_type": "markdown",
   "id": "f3fecb9e-2fc9-4673-b5c0-6f565ee7c3fa",
   "metadata": {},
   "source": [
    "We can see that these columns have null values. Let's see what we can do with these columns."
   ]
  },
  {
   "cell_type": "code",
   "execution_count": 8,
   "id": "2aca8746-7b9e-4578-8ceb-462ffc0548c9",
   "metadata": {},
   "outputs": [
    {
     "data": {
      "text/plain": [
       "0.0     2734\n",
       "0.2       81\n",
       "0.1       57\n",
       "0.6       26\n",
       "0.4       22\n",
       "NaN       17\n",
       "0.3       17\n",
       "0.7       14\n",
       "0.5       13\n",
       "0.8       12\n",
       "0.9       12\n",
       "1.2       10\n",
       "1.7        9\n",
       "1.0        7\n",
       "1.3        6\n",
       "2.0        6\n",
       "1.6        5\n",
       "1.8        5\n",
       "2.2        5\n",
       "2.4        4\n",
       "2.1        4\n",
       "1.5        4\n",
       "2.8        4\n",
       "3.5        4\n",
       "2.5        3\n",
       "1.1        3\n",
       "1.4        3\n",
       "3.9        3\n",
       "5.4        2\n",
       "3.1        2\n",
       "2.9        2\n",
       "2.6        2\n",
       "3.7        2\n",
       "4.1        2\n",
       "4.3        2\n",
       "7.2        1\n",
       "1.9        1\n",
       "3.4        1\n",
       "7.6        1\n",
       "4.5        1\n",
       "3.3        1\n",
       "6.8        1\n",
       "10.4       1\n",
       "6.9        1\n",
       "2.3        1\n",
       "2.7        1\n",
       "4.6        1\n",
       "5.9        1\n",
       "6.1        1\n",
       "4.2        1\n",
       "3.6        1\n",
       "11.5       1\n",
       "Name: snow, dtype: int64"
      ]
     },
     "execution_count": 8,
     "metadata": {},
     "output_type": "execute_result"
    }
   ],
   "source": [
    "## Show counts of all values in snow column\n",
    "core_weather[\"snow\"].value_counts(dropna=False)"
   ]
  },
  {
   "cell_type": "markdown",
   "id": "ef46bc48-a290-4e04-b5e0-df082ba4d3a2",
   "metadata": {},
   "source": [
    "The snow column only has 17 null values so it seems safe to replace these null values with 0's without affecting our data"
   ]
  },
  {
   "cell_type": "code",
   "execution_count": 9,
   "id": "2e23cca7-c6f7-4f3c-9b77-00a269b0c459",
   "metadata": {},
   "outputs": [],
   "source": [
    "## Replace null values with 0\n",
    "core_weather[\"snow\"] = core_weather[\"snow\"].fillna(0.0)"
   ]
  },
  {
   "cell_type": "code",
   "execution_count": 10,
   "id": "4ec59760-3c3d-421d-8a02-a61e1facff02",
   "metadata": {},
   "outputs": [
    {
     "data": {
      "text/plain": [
       "18"
      ]
     },
     "execution_count": 10,
     "metadata": {},
     "output_type": "execute_result"
    }
   ],
   "source": [
    "## Display amount of null values\n",
    "core_weather[core_weather[\"precip\"].isnull()].shape[0]"
   ]
  },
  {
   "cell_type": "markdown",
   "id": "0e207875-a7a0-4010-80c0-871a5781563a",
   "metadata": {},
   "source": [
    "The precipitation column also has a small amount of null values (18) which can be replaced with 0's"
   ]
  },
  {
   "cell_type": "code",
   "execution_count": 11,
   "id": "3b58ba11-65ba-4238-ade1-d92f2b0f91c9",
   "metadata": {},
   "outputs": [],
   "source": [
    "##Replace null values with 0\n",
    "core_weather[\"precip\"] = core_weather[\"precip\"].fillna(0.0)"
   ]
  },
  {
   "cell_type": "code",
   "execution_count": 12,
   "id": "f994ec20-7918-4ee8-916e-e847889c729f",
   "metadata": {},
   "outputs": [
    {
     "data": {
      "text/plain": [
       "2319"
      ]
     },
     "execution_count": 12,
     "metadata": {},
     "output_type": "execute_result"
    }
   ],
   "source": [
    "## Display null values\n",
    "core_weather[\"snow_depth\"].isnull().sum()"
   ]
  },
  {
   "cell_type": "markdown",
   "id": "26599095-2e74-4a0a-a6a5-1e7a7db8498f",
   "metadata": {},
   "source": [
    "The snow_depth column has 2319 null values which is 74% of the whole dataset. We should delete this column for our analysis."
   ]
  },
  {
   "cell_type": "code",
   "execution_count": 13,
   "id": "e4be6bee-fbc2-4b78-9212-cb506fedf506",
   "metadata": {},
   "outputs": [],
   "source": [
    "## Delete snow_depth column\n",
    "del core_weather[\"snow_depth\"]"
   ]
  },
  {
   "cell_type": "code",
   "execution_count": 14,
   "id": "37a3c3f0-e4d8-4595-81bf-1fc3e6300e73",
   "metadata": {},
   "outputs": [
    {
     "data": {
      "text/plain": [
       "precip       0\n",
       "snow         0\n",
       "temp_max    13\n",
       "temp_min    13\n",
       "dtype: int64"
      ]
     },
     "execution_count": 14,
     "metadata": {},
     "output_type": "execute_result"
    }
   ],
   "source": [
    "## Display amount of null values per column\n",
    "core_weather.apply(pd.isnull).sum()"
   ]
  },
  {
   "cell_type": "code",
   "execution_count": 15,
   "id": "c4841006-438d-47db-9a8e-ae9b8a88eece",
   "metadata": {},
   "outputs": [
    {
     "data": {
      "text/html": [
       "<div>\n",
       "<style scoped>\n",
       "    .dataframe tbody tr th:only-of-type {\n",
       "        vertical-align: middle;\n",
       "    }\n",
       "\n",
       "    .dataframe tbody tr th {\n",
       "        vertical-align: top;\n",
       "    }\n",
       "\n",
       "    .dataframe thead th {\n",
       "        text-align: right;\n",
       "    }\n",
       "</style>\n",
       "<table border=\"1\" class=\"dataframe\">\n",
       "  <thead>\n",
       "    <tr style=\"text-align: right;\">\n",
       "      <th></th>\n",
       "      <th>precip</th>\n",
       "      <th>snow</th>\n",
       "      <th>temp_max</th>\n",
       "      <th>temp_min</th>\n",
       "    </tr>\n",
       "    <tr>\n",
       "      <th>DATE</th>\n",
       "      <th></th>\n",
       "      <th></th>\n",
       "      <th></th>\n",
       "      <th></th>\n",
       "    </tr>\n",
       "  </thead>\n",
       "  <tbody>\n",
       "    <tr>\n",
       "      <th>2017-11-08</th>\n",
       "      <td>0.00</td>\n",
       "      <td>0.0</td>\n",
       "      <td>NaN</td>\n",
       "      <td>30.0</td>\n",
       "    </tr>\n",
       "    <tr>\n",
       "      <th>2019-05-13</th>\n",
       "      <td>0.30</td>\n",
       "      <td>0.0</td>\n",
       "      <td>NaN</td>\n",
       "      <td>NaN</td>\n",
       "    </tr>\n",
       "    <tr>\n",
       "      <th>2021-02-17</th>\n",
       "      <td>0.00</td>\n",
       "      <td>0.0</td>\n",
       "      <td>NaN</td>\n",
       "      <td>NaN</td>\n",
       "    </tr>\n",
       "    <tr>\n",
       "      <th>2021-02-18</th>\n",
       "      <td>0.00</td>\n",
       "      <td>0.0</td>\n",
       "      <td>NaN</td>\n",
       "      <td>NaN</td>\n",
       "    </tr>\n",
       "    <tr>\n",
       "      <th>2021-07-20</th>\n",
       "      <td>0.00</td>\n",
       "      <td>0.0</td>\n",
       "      <td>NaN</td>\n",
       "      <td>NaN</td>\n",
       "    </tr>\n",
       "    <tr>\n",
       "      <th>2021-08-01</th>\n",
       "      <td>0.00</td>\n",
       "      <td>0.0</td>\n",
       "      <td>NaN</td>\n",
       "      <td>NaN</td>\n",
       "    </tr>\n",
       "    <tr>\n",
       "      <th>2021-12-09</th>\n",
       "      <td>0.07</td>\n",
       "      <td>0.7</td>\n",
       "      <td>NaN</td>\n",
       "      <td>NaN</td>\n",
       "    </tr>\n",
       "    <tr>\n",
       "      <th>2021-12-19</th>\n",
       "      <td>0.00</td>\n",
       "      <td>0.0</td>\n",
       "      <td>NaN</td>\n",
       "      <td>NaN</td>\n",
       "    </tr>\n",
       "    <tr>\n",
       "      <th>2021-12-20</th>\n",
       "      <td>0.00</td>\n",
       "      <td>0.0</td>\n",
       "      <td>NaN</td>\n",
       "      <td>NaN</td>\n",
       "    </tr>\n",
       "    <tr>\n",
       "      <th>2022-01-06</th>\n",
       "      <td>0.00</td>\n",
       "      <td>0.0</td>\n",
       "      <td>NaN</td>\n",
       "      <td>NaN</td>\n",
       "    </tr>\n",
       "    <tr>\n",
       "      <th>2022-01-07</th>\n",
       "      <td>0.00</td>\n",
       "      <td>0.0</td>\n",
       "      <td>NaN</td>\n",
       "      <td>NaN</td>\n",
       "    </tr>\n",
       "    <tr>\n",
       "      <th>2022-01-26</th>\n",
       "      <td>0.00</td>\n",
       "      <td>0.0</td>\n",
       "      <td>NaN</td>\n",
       "      <td>NaN</td>\n",
       "    </tr>\n",
       "    <tr>\n",
       "      <th>2022-02-07</th>\n",
       "      <td>0.00</td>\n",
       "      <td>0.0</td>\n",
       "      <td>NaN</td>\n",
       "      <td>NaN</td>\n",
       "    </tr>\n",
       "  </tbody>\n",
       "</table>\n",
       "</div>"
      ],
      "text/plain": [
       "            precip  snow  temp_max  temp_min\n",
       "DATE                                        \n",
       "2017-11-08    0.00   0.0       NaN      30.0\n",
       "2019-05-13    0.30   0.0       NaN       NaN\n",
       "2021-02-17    0.00   0.0       NaN       NaN\n",
       "2021-02-18    0.00   0.0       NaN       NaN\n",
       "2021-07-20    0.00   0.0       NaN       NaN\n",
       "2021-08-01    0.00   0.0       NaN       NaN\n",
       "2021-12-09    0.07   0.7       NaN       NaN\n",
       "2021-12-19    0.00   0.0       NaN       NaN\n",
       "2021-12-20    0.00   0.0       NaN       NaN\n",
       "2022-01-06    0.00   0.0       NaN       NaN\n",
       "2022-01-07    0.00   0.0       NaN       NaN\n",
       "2022-01-26    0.00   0.0       NaN       NaN\n",
       "2022-02-07    0.00   0.0       NaN       NaN"
      ]
     },
     "execution_count": 15,
     "metadata": {},
     "output_type": "execute_result"
    }
   ],
   "source": [
    "core_weather[pd.isnull(core_weather[\"temp_max\"])]"
   ]
  },
  {
   "cell_type": "markdown",
   "id": "e276eeee-caaf-4429-840e-a5e0292664f6",
   "metadata": {},
   "source": [
    "The temp max and min columns still have null values. Looking at our data; typically, day to day temperature doesn't differ drastically. We can use this insight to come up with a solution to replace the null values.\n",
    "\n",
    "Replacing the null values in temp_max and temp_min with 0 could drastically change our analysis instead, we can use a forward fill to replace null temperatures with the previous days temperature to get a more accurate representation."
   ]
  },
  {
   "cell_type": "code",
   "execution_count": 16,
   "id": "10223093-f691-4570-b183-ed3d5114adb8",
   "metadata": {},
   "outputs": [],
   "source": [
    "## Forward fill the null values for the remaining null values\n",
    "core_weather = core_weather.fillna(method=\"ffill\")"
   ]
  },
  {
   "cell_type": "code",
   "execution_count": 17,
   "id": "95a47a38-04d6-4114-9a5a-3038e9def966",
   "metadata": {},
   "outputs": [
    {
     "data": {
      "text/plain": [
       "precip      0\n",
       "snow        0\n",
       "temp_max    0\n",
       "temp_min    0\n",
       "dtype: int64"
      ]
     },
     "execution_count": 17,
     "metadata": {},
     "output_type": "execute_result"
    }
   ],
   "source": [
    "core_weather.apply(pd.isnull).sum()"
   ]
  },
  {
   "cell_type": "markdown",
   "id": "3bd9448f-7684-4f0c-af72-a0e1133e8b6b",
   "metadata": {},
   "source": [
    "We've now cleaned our data of missing values.\n",
    "\n",
    "\n",
    "## Verifying Data Types\n",
    "\n",
    "\n",
    "Let's now verify the data types of our columns to ensure they are the correct data types."
   ]
  },
  {
   "cell_type": "code",
   "execution_count": 18,
   "id": "cfaaf392-2feb-4886-bc2a-5ed5065d58de",
   "metadata": {},
   "outputs": [
    {
     "data": {
      "text/plain": [
       "precip      float64\n",
       "snow        float64\n",
       "temp_max    float64\n",
       "temp_min    float64\n",
       "dtype: object"
      ]
     },
     "execution_count": 18,
     "metadata": {},
     "output_type": "execute_result"
    }
   ],
   "source": [
    "## Display column date types\n",
    "core_weather.dtypes"
   ]
  },
  {
   "cell_type": "code",
   "execution_count": 19,
   "id": "acff8153-5b56-4fc3-8582-14a0b9f9ee96",
   "metadata": {},
   "outputs": [
    {
     "data": {
      "text/plain": [
       "Index(['2013-06-13', '2013-06-14', '2013-06-15', '2013-06-16', '2013-06-17',\n",
       "       '2013-06-18', '2013-06-19', '2013-06-20', '2013-06-21', '2013-06-22',\n",
       "       ...\n",
       "       '2022-02-03', '2022-02-04', '2022-02-05', '2022-02-06', '2022-02-07',\n",
       "       '2022-02-08', '2022-02-09', '2022-02-10', '2022-02-11', '2022-02-12'],\n",
       "      dtype='object', name='DATE', length=3121)"
      ]
     },
     "execution_count": 19,
     "metadata": {},
     "output_type": "execute_result"
    }
   ],
   "source": [
    "## display index\n",
    "core_weather.index"
   ]
  },
  {
   "cell_type": "markdown",
   "id": "57a051e8-f842-47cd-8aff-0f81b1ce8607",
   "metadata": {},
   "source": [
    "The index seems to be a string data type, but it's made up of date values, we should convert this in to a date time instead"
   ]
  },
  {
   "cell_type": "code",
   "execution_count": 20,
   "id": "57103077-c65c-4a93-949c-10c9efbc5c39",
   "metadata": {},
   "outputs": [],
   "source": [
    "## Convert index to datetime\n",
    "core_weather.index = pd.to_datetime(core_weather.index)"
   ]
  },
  {
   "cell_type": "code",
   "execution_count": 21,
   "id": "70888267-d500-4e80-8e0b-83d61ca1d6ab",
   "metadata": {},
   "outputs": [
    {
     "data": {
      "text/plain": [
       "DatetimeIndex(['2013-06-13', '2013-06-14', '2013-06-15', '2013-06-16',\n",
       "               '2013-06-17', '2013-06-18', '2013-06-19', '2013-06-20',\n",
       "               '2013-06-21', '2013-06-22',\n",
       "               ...\n",
       "               '2022-02-03', '2022-02-04', '2022-02-05', '2022-02-06',\n",
       "               '2022-02-07', '2022-02-08', '2022-02-09', '2022-02-10',\n",
       "               '2022-02-11', '2022-02-12'],\n",
       "              dtype='datetime64[ns]', name='DATE', length=3121, freq=None)"
      ]
     },
     "execution_count": 21,
     "metadata": {},
     "output_type": "execute_result"
    }
   ],
   "source": [
    "## Display index\n",
    "core_weather.index"
   ]
  },
  {
   "cell_type": "markdown",
   "id": "cf7046e7-3f2b-44af-b3d9-0dcedeeec174",
   "metadata": {},
   "source": [
    "Taking a look at the documentation at https://www1.ncdc.noaa.gov/pub/data/cdo/documentation/GHCND_documentation.pdf , there's a note indicating that fields containing 9's (9999) mean that the data is missing or hasn't been recieved.\n",
    "\n",
    "Let's verify that there isn't any missing data:"
   ]
  },
  {
   "cell_type": "code",
   "execution_count": 22,
   "id": "f172a7c6-5af2-4036-be0a-c1caf032c0dc",
   "metadata": {},
   "outputs": [
    {
     "data": {
      "text/plain": [
       "precip      0\n",
       "snow        0\n",
       "temp_max    0\n",
       "temp_min    0\n",
       "dtype: int64"
      ]
     },
     "execution_count": 22,
     "metadata": {},
     "output_type": "execute_result"
    }
   ],
   "source": [
    "## Display counts of columns containing 9999\n",
    "core_weather.apply(lambda x: (x==9999).sum())"
   ]
  },
  {
   "cell_type": "markdown",
   "id": "1aa3f85f-b001-4aa7-be5d-bde839e3e9b7",
   "metadata": {},
   "source": [
    "In this case none of our columns contained 9999. We can now move on to our analysis"
   ]
  },
  {
   "cell_type": "markdown",
   "id": "6aac799d-4fe6-4760-b6bc-3ab9fea4a7ab",
   "metadata": {},
   "source": [
    "## Analyzing the Weather Data\n",
    "\n",
    "We can use the dataset we cleaned above to create some plots in order to visualize the data"
   ]
  },
  {
   "cell_type": "code",
   "execution_count": 23,
   "id": "cad2bd8e-db72-4984-b302-66a07d12c2d1",
   "metadata": {},
   "outputs": [
    {
     "data": {
      "text/plain": [
       "Text(0, 0.5, 'Temperature (Farenheit)')"
      ]
     },
     "execution_count": 23,
     "metadata": {},
     "output_type": "execute_result"
    },
    {
     "data": {
      "image/png": "[encoded data removed]",
      "text/plain": [
       "<Figure size 432x288 with 1 Axes>"
      ]
     },
     "metadata": {
      "needs_background": "light"
     },
     "output_type": "display_data"
    }
   ],
   "source": [
    "import matplotlib.pyplot as plt\n",
    "\n",
    "## Plot a heatmap of max and min temperatures for each eyar\n",
    "core_weather[[\"temp_max\",\"temp_min\"]].plot()\n",
    "plt.title(\"Yearly Max and Min Temperatures\")\n",
    "plt.xlabel(\"Date\")\n",
    "plt.ylabel(\"Temperature (Farenheit)\")"
   ]
  },
  {
   "cell_type": "markdown",
   "id": "c73b021d-71b9-4b71-9acc-b235ab52795e",
   "metadata": {},
   "source": [
    "The minimum and maximum temperatures throughout the years seem to follow a pattern and are very similar from year to year."
   ]
  },
  {
   "cell_type": "code",
   "execution_count": 24,
   "id": "a8b9a27f-0994-4255-820d-9e0d81da1d0a",
   "metadata": {},
   "outputs": [
    {
     "data": {
      "text/plain": [
       "2016    366\n",
       "2020    366\n",
       "2014    365\n",
       "2018    365\n",
       "2019    365\n",
       "2015    363\n",
       "2017    360\n",
       "2021    332\n",
       "2013    196\n",
       "2022     43\n",
       "Name: DATE, dtype: int64"
      ]
     },
     "execution_count": 24,
     "metadata": {},
     "output_type": "execute_result"
    }
   ],
   "source": [
    "## Display counts of weather records for each year\n",
    "core_weather.index.year.value_counts()"
   ]
  },
  {
   "cell_type": "code",
   "execution_count": 25,
   "id": "ddb8bdb7-352b-4620-a070-e3b7ab79f89c",
   "metadata": {},
   "outputs": [
    {
     "data": {
      "text/plain": [
       "Text(0, 0.5, 'Amount of Precipitation (Inches)')"
      ]
     },
     "execution_count": 25,
     "metadata": {},
     "output_type": "execute_result"
    },
    {
     "data": {
      "image/png": "[encoded data removed]",
      "text/plain": [
       "<Figure size 432x288 with 1 Axes>"
      ]
     },
     "metadata": {
      "needs_background": "light"
     },
     "output_type": "display_data"
    }
   ],
   "source": [
    "## Display precipitation yearly\n",
    "core_weather[\"precip\"].plot()\n",
    "plt.title(\"Yearly Precipitation\")\n",
    "plt.xlabel(\"Date\")\n",
    "plt.ylabel(\"Amount of Precipitation (Inches)\")"
   ]
  },
  {
   "cell_type": "markdown",
   "id": "f128a5c7-992e-4714-a97f-73cf4a6e50f0",
   "metadata": {},
   "source": [
    "Precipitation seems to be present throughout the year, but there seems to be an outlier in 2013. There was a large storm in July of 2013 that brought more than 10 inches of precipitation so this data point is valid and not an error."
   ]
  },
  {
   "cell_type": "code",
   "execution_count": 26,
   "id": "4fcc7d6b-dcec-4504-8725-29631d8914fc",
   "metadata": {},
   "outputs": [
    {
     "data": {
      "text/plain": [
       "Text(0, 0.5, 'Amount of Snow (Inches)')"
      ]
     },
     "execution_count": 26,
     "metadata": {},
     "output_type": "execute_result"
    },
    {
     "data": {
      "image/png": "[encoded data removed]",
      "text/plain": [
       "<Figure size 432x288 with 1 Axes>"
      ]
     },
     "metadata": {
      "needs_background": "light"
     },
     "output_type": "display_data"
    }
   ],
   "source": [
    "## Display snow yearly\n",
    "core_weather[\"snow\"].plot()\n",
    "plt.title(\"Yearly Snow\")\n",
    "plt.xlabel(\"Date\")\n",
    "plt.ylabel(\"Amount of Snow (Inches)\")"
   ]
  },
  {
   "cell_type": "markdown",
   "id": "0e986f0c-1532-4519-8f77-5276d94dbe79",
   "metadata": {},
   "source": [
    "The yearly snow pattern shows that parts of the year have no snow (summer months) while the winter months tend to have lots of snow with the peak being this year."
   ]
  },
  {
   "cell_type": "markdown",
   "id": "7b6cfd44-a60b-4f6f-aec6-ddd4bbdc6cee",
   "metadata": {},
   "source": [
    "## Working with Machine Learning"
   ]
  },
  {
   "cell_type": "markdown",
   "id": "65c1f66e-8b73-4e29-bf24-eb54d461b4ca",
   "metadata": {},
   "source": [
    "Now that we've cleaned and explored our data to verify data integrity we can move on to training and testing our dataset to ultimately predict the weather."
   ]
  },
  {
   "cell_type": "markdown",
   "id": "d03236c6-46e4-4040-9364-7396d3608ca9",
   "metadata": {},
   "source": [
    "What we want to predict: \n",
    "\n",
    "- The next days maximum temperature (tomorrow's) using historical data"
   ]
  },
  {
   "cell_type": "code",
   "execution_count": 27,
   "id": "50d6d5bd-5662-4e52-8f10-b4f0cbfdb128",
   "metadata": {},
   "outputs": [],
   "source": [
    "## Create a target column containing the next days max_temp\n",
    "core_weather[\"target\"] = core_weather.shift(-1)[\"temp_max\"]"
   ]
  },
  {
   "cell_type": "code",
   "execution_count": 28,
   "id": "e665d2de-b4a7-4f86-84b1-500bf8dc110b",
   "metadata": {},
   "outputs": [
    {
     "data": {
      "text/html": [
       "<div>\n",
       "<style scoped>\n",
       "    .dataframe tbody tr th:only-of-type {\n",
       "        vertical-align: middle;\n",
       "    }\n",
       "\n",
       "    .dataframe tbody tr th {\n",
       "        vertical-align: top;\n",
       "    }\n",
       "\n",
       "    .dataframe thead th {\n",
       "        text-align: right;\n",
       "    }\n",
       "</style>\n",
       "<table border=\"1\" class=\"dataframe\">\n",
       "  <thead>\n",
       "    <tr style=\"text-align: right;\">\n",
       "      <th></th>\n",
       "      <th>precip</th>\n",
       "      <th>snow</th>\n",
       "      <th>temp_max</th>\n",
       "      <th>temp_min</th>\n",
       "      <th>target</th>\n",
       "    </tr>\n",
       "    <tr>\n",
       "      <th>DATE</th>\n",
       "      <th></th>\n",
       "      <th></th>\n",
       "      <th></th>\n",
       "      <th></th>\n",
       "      <th></th>\n",
       "    </tr>\n",
       "  </thead>\n",
       "  <tbody>\n",
       "    <tr>\n",
       "      <th>2013-06-13</th>\n",
       "      <td>0.42</td>\n",
       "      <td>0.0</td>\n",
       "      <td>73.0</td>\n",
       "      <td>58.0</td>\n",
       "      <td>73.0</td>\n",
       "    </tr>\n",
       "    <tr>\n",
       "      <th>2013-06-14</th>\n",
       "      <td>0.00</td>\n",
       "      <td>0.0</td>\n",
       "      <td>73.0</td>\n",
       "      <td>55.0</td>\n",
       "      <td>78.0</td>\n",
       "    </tr>\n",
       "    <tr>\n",
       "      <th>2013-06-15</th>\n",
       "      <td>0.00</td>\n",
       "      <td>0.0</td>\n",
       "      <td>78.0</td>\n",
       "      <td>50.0</td>\n",
       "      <td>79.0</td>\n",
       "    </tr>\n",
       "    <tr>\n",
       "      <th>2013-06-16</th>\n",
       "      <td>0.38</td>\n",
       "      <td>0.0</td>\n",
       "      <td>79.0</td>\n",
       "      <td>62.0</td>\n",
       "      <td>76.0</td>\n",
       "    </tr>\n",
       "    <tr>\n",
       "      <th>2013-06-17</th>\n",
       "      <td>0.00</td>\n",
       "      <td>0.0</td>\n",
       "      <td>76.0</td>\n",
       "      <td>58.0</td>\n",
       "      <td>70.0</td>\n",
       "    </tr>\n",
       "    <tr>\n",
       "      <th>...</th>\n",
       "      <td>...</td>\n",
       "      <td>...</td>\n",
       "      <td>...</td>\n",
       "      <td>...</td>\n",
       "      <td>...</td>\n",
       "    </tr>\n",
       "    <tr>\n",
       "      <th>2022-02-08</th>\n",
       "      <td>0.00</td>\n",
       "      <td>0.0</td>\n",
       "      <td>31.0</td>\n",
       "      <td>22.0</td>\n",
       "      <td>43.0</td>\n",
       "    </tr>\n",
       "    <tr>\n",
       "      <th>2022-02-09</th>\n",
       "      <td>0.00</td>\n",
       "      <td>0.0</td>\n",
       "      <td>43.0</td>\n",
       "      <td>22.0</td>\n",
       "      <td>37.0</td>\n",
       "    </tr>\n",
       "    <tr>\n",
       "      <th>2022-02-10</th>\n",
       "      <td>0.00</td>\n",
       "      <td>0.0</td>\n",
       "      <td>37.0</td>\n",
       "      <td>31.0</td>\n",
       "      <td>38.0</td>\n",
       "    </tr>\n",
       "    <tr>\n",
       "      <th>2022-02-11</th>\n",
       "      <td>0.20</td>\n",
       "      <td>0.1</td>\n",
       "      <td>38.0</td>\n",
       "      <td>29.0</td>\n",
       "      <td>36.0</td>\n",
       "    </tr>\n",
       "    <tr>\n",
       "      <th>2022-02-12</th>\n",
       "      <td>0.07</td>\n",
       "      <td>0.4</td>\n",
       "      <td>36.0</td>\n",
       "      <td>8.0</td>\n",
       "      <td>NaN</td>\n",
       "    </tr>\n",
       "  </tbody>\n",
       "</table>\n",
       "<p>3121 rows × 5 columns</p>\n",
       "</div>"
      ],
      "text/plain": [
       "            precip  snow  temp_max  temp_min  target\n",
       "DATE                                                \n",
       "2013-06-13    0.42   0.0      73.0      58.0    73.0\n",
       "2013-06-14    0.00   0.0      73.0      55.0    78.0\n",
       "2013-06-15    0.00   0.0      78.0      50.0    79.0\n",
       "2013-06-16    0.38   0.0      79.0      62.0    76.0\n",
       "2013-06-17    0.00   0.0      76.0      58.0    70.0\n",
       "...            ...   ...       ...       ...     ...\n",
       "2022-02-08    0.00   0.0      31.0      22.0    43.0\n",
       "2022-02-09    0.00   0.0      43.0      22.0    37.0\n",
       "2022-02-10    0.00   0.0      37.0      31.0    38.0\n",
       "2022-02-11    0.20   0.1      38.0      29.0    36.0\n",
       "2022-02-12    0.07   0.4      36.0       8.0     NaN\n",
       "\n",
       "[3121 rows x 5 columns]"
      ]
     },
     "execution_count": 28,
     "metadata": {},
     "output_type": "execute_result"
    }
   ],
   "source": [
    "## Display core_weather data\n",
    "core_weather"
   ]
  },
  {
   "cell_type": "markdown",
   "id": "04c10db4-82ee-4ded-babe-a96f3da8b383",
   "metadata": {},
   "source": [
    "The final row in the dataset contains a null value for target this is because we don't have the data for the next day. We should delete this row."
   ]
  },
  {
   "cell_type": "code",
   "execution_count": 29,
   "id": "10708be3-a878-424d-8ecf-43282f39cfd9",
   "metadata": {},
   "outputs": [],
   "source": [
    "## Keep rows that don't have a null target\n",
    "core_weather = core_weather[~core_weather[\"target\"].isnull()]"
   ]
  },
  {
   "cell_type": "code",
   "execution_count": 30,
   "id": "a3026e68-9c31-4a88-bfbd-2b92bace4b39",
   "metadata": {},
   "outputs": [
    {
     "data": {
      "text/html": [
       "<div>\n",
       "<style scoped>\n",
       "    .dataframe tbody tr th:only-of-type {\n",
       "        vertical-align: middle;\n",
       "    }\n",
       "\n",
       "    .dataframe tbody tr th {\n",
       "        vertical-align: top;\n",
       "    }\n",
       "\n",
       "    .dataframe thead th {\n",
       "        text-align: right;\n",
       "    }\n",
       "</style>\n",
       "<table border=\"1\" class=\"dataframe\">\n",
       "  <thead>\n",
       "    <tr style=\"text-align: right;\">\n",
       "      <th></th>\n",
       "      <th>precip</th>\n",
       "      <th>snow</th>\n",
       "      <th>temp_max</th>\n",
       "      <th>temp_min</th>\n",
       "      <th>target</th>\n",
       "    </tr>\n",
       "    <tr>\n",
       "      <th>DATE</th>\n",
       "      <th></th>\n",
       "      <th></th>\n",
       "      <th></th>\n",
       "      <th></th>\n",
       "      <th></th>\n",
       "    </tr>\n",
       "  </thead>\n",
       "  <tbody>\n",
       "    <tr>\n",
       "      <th>2013-06-13</th>\n",
       "      <td>0.42</td>\n",
       "      <td>0.0</td>\n",
       "      <td>73.0</td>\n",
       "      <td>58.0</td>\n",
       "      <td>73.0</td>\n",
       "    </tr>\n",
       "    <tr>\n",
       "      <th>2013-06-14</th>\n",
       "      <td>0.00</td>\n",
       "      <td>0.0</td>\n",
       "      <td>73.0</td>\n",
       "      <td>55.0</td>\n",
       "      <td>78.0</td>\n",
       "    </tr>\n",
       "    <tr>\n",
       "      <th>2013-06-15</th>\n",
       "      <td>0.00</td>\n",
       "      <td>0.0</td>\n",
       "      <td>78.0</td>\n",
       "      <td>50.0</td>\n",
       "      <td>79.0</td>\n",
       "    </tr>\n",
       "    <tr>\n",
       "      <th>2013-06-16</th>\n",
       "      <td>0.38</td>\n",
       "      <td>0.0</td>\n",
       "      <td>79.0</td>\n",
       "      <td>62.0</td>\n",
       "      <td>76.0</td>\n",
       "    </tr>\n",
       "    <tr>\n",
       "      <th>2013-06-17</th>\n",
       "      <td>0.00</td>\n",
       "      <td>0.0</td>\n",
       "      <td>76.0</td>\n",
       "      <td>58.0</td>\n",
       "      <td>70.0</td>\n",
       "    </tr>\n",
       "    <tr>\n",
       "      <th>...</th>\n",
       "      <td>...</td>\n",
       "      <td>...</td>\n",
       "      <td>...</td>\n",
       "      <td>...</td>\n",
       "      <td>...</td>\n",
       "    </tr>\n",
       "    <tr>\n",
       "      <th>2022-02-07</th>\n",
       "      <td>0.00</td>\n",
       "      <td>0.0</td>\n",
       "      <td>32.0</td>\n",
       "      <td>19.0</td>\n",
       "      <td>31.0</td>\n",
       "    </tr>\n",
       "    <tr>\n",
       "      <th>2022-02-08</th>\n",
       "      <td>0.00</td>\n",
       "      <td>0.0</td>\n",
       "      <td>31.0</td>\n",
       "      <td>22.0</td>\n",
       "      <td>43.0</td>\n",
       "    </tr>\n",
       "    <tr>\n",
       "      <th>2022-02-09</th>\n",
       "      <td>0.00</td>\n",
       "      <td>0.0</td>\n",
       "      <td>43.0</td>\n",
       "      <td>22.0</td>\n",
       "      <td>37.0</td>\n",
       "    </tr>\n",
       "    <tr>\n",
       "      <th>2022-02-10</th>\n",
       "      <td>0.00</td>\n",
       "      <td>0.0</td>\n",
       "      <td>37.0</td>\n",
       "      <td>31.0</td>\n",
       "      <td>38.0</td>\n",
       "    </tr>\n",
       "    <tr>\n",
       "      <th>2022-02-11</th>\n",
       "      <td>0.20</td>\n",
       "      <td>0.1</td>\n",
       "      <td>38.0</td>\n",
       "      <td>29.0</td>\n",
       "      <td>36.0</td>\n",
       "    </tr>\n",
       "  </tbody>\n",
       "</table>\n",
       "<p>3120 rows × 5 columns</p>\n",
       "</div>"
      ],
      "text/plain": [
       "            precip  snow  temp_max  temp_min  target\n",
       "DATE                                                \n",
       "2013-06-13    0.42   0.0      73.0      58.0    73.0\n",
       "2013-06-14    0.00   0.0      73.0      55.0    78.0\n",
       "2013-06-15    0.00   0.0      78.0      50.0    79.0\n",
       "2013-06-16    0.38   0.0      79.0      62.0    76.0\n",
       "2013-06-17    0.00   0.0      76.0      58.0    70.0\n",
       "...            ...   ...       ...       ...     ...\n",
       "2022-02-07    0.00   0.0      32.0      19.0    31.0\n",
       "2022-02-08    0.00   0.0      31.0      22.0    43.0\n",
       "2022-02-09    0.00   0.0      43.0      22.0    37.0\n",
       "2022-02-10    0.00   0.0      37.0      31.0    38.0\n",
       "2022-02-11    0.20   0.1      38.0      29.0    36.0\n",
       "\n",
       "[3120 rows x 5 columns]"
      ]
     },
     "execution_count": 30,
     "metadata": {},
     "output_type": "execute_result"
    }
   ],
   "source": [
    "## Display dataframe\n",
    "core_weather"
   ]
  },
  {
   "cell_type": "markdown",
   "id": "608f5035-3231-46f7-a723-4bedee6b5172",
   "metadata": {},
   "source": [
    "We'll start by using Ridge Regression to minimize overfitting"
   ]
  },
  {
   "cell_type": "code",
   "execution_count": 31,
   "id": "960cef09-ce17-4f84-87d7-27a5fc7a8b20",
   "metadata": {},
   "outputs": [],
   "source": [
    "from sklearn.linear_model import Ridge\n",
    "\n",
    "## Initialize model\n",
    "reg= Ridge(alpha=.1)"
   ]
  },
  {
   "cell_type": "code",
   "execution_count": 32,
   "id": "8aae75d1-3eea-4a0f-b72e-108eb2f5daca",
   "metadata": {},
   "outputs": [],
   "source": [
    "## Initialize list of predictors \n",
    "predictors = [\"precip\",\"snow\",\"temp_max\",\"temp_min\"]"
   ]
  },
  {
   "cell_type": "markdown",
   "id": "1cc4d2e5-b010-4098-a71d-1fd4e20b6386",
   "metadata": {},
   "source": [
    "Using our predictors we'll use all days before 2021 to predict weather for all days from the beginning of 2021"
   ]
  },
  {
   "cell_type": "code",
   "execution_count": 33,
   "id": "1e0a40a4-5745-49ae-9eff-2ee6bdabc144",
   "metadata": {},
   "outputs": [],
   "source": [
    "## training set all days before 2021\n",
    "train = core_weather.loc[:\"2020-12-31\"]\n",
    "\n",
    "## test set all days after 2020 \n",
    "test = core_weather.loc[\"2021-01-01\":]"
   ]
  },
  {
   "cell_type": "code",
   "execution_count": 34,
   "id": "bc6fc976-648e-4764-83b4-80712a291cf9",
   "metadata": {},
   "outputs": [
    {
     "data": {
      "text/plain": [
       "Ridge(alpha=0.1)"
      ]
     },
     "execution_count": 34,
     "metadata": {},
     "output_type": "execute_result"
    }
   ],
   "source": [
    "## Fit model to data on train dataset\n",
    "reg.fit(train[predictors],train[\"target\"])"
   ]
  },
  {
   "cell_type": "code",
   "execution_count": 35,
   "id": "fa318702-59c4-461f-ad82-bdcf53a5886d",
   "metadata": {},
   "outputs": [],
   "source": [
    "## Generate predictions on test dataset\n",
    "predictions = reg.predict(test[predictors])"
   ]
  },
  {
   "cell_type": "markdown",
   "id": "c2d5b3c7-90ac-41bc-be8e-6e8890b947d3",
   "metadata": {},
   "source": [
    "We'll use mean absolute error to see how well we did with our predictions"
   ]
  },
  {
   "cell_type": "code",
   "execution_count": 36,
   "id": "422e959e-e5c5-4ecb-b988-abfaf3ed33d6",
   "metadata": {},
   "outputs": [
    {
     "data": {
      "text/plain": [
       "5.920994826337824"
      ]
     },
     "execution_count": 36,
     "metadata": {},
     "output_type": "execute_result"
    }
   ],
   "source": [
    "from sklearn.metrics import mean_absolute_error\n",
    "\n",
    "mean_absolute_error(test[\"target\"],predictions)"
   ]
  },
  {
   "cell_type": "markdown",
   "id": "6b64c349-fc0d-47d6-a9a8-049bf49cbb53",
   "metadata": {},
   "source": [
    "Above we can see on average we were about 5.9 degrees farenheit off from the actual values"
   ]
  },
  {
   "cell_type": "markdown",
   "id": "1ce6ff32-bf9a-4fe7-ab93-bea46edaa345",
   "metadata": {},
   "source": [
    "Let's combine our actual values with the predictions to visualize them better. To do this we'll have to convert the predictions from a numpy array to a series and change its' index to the same as the test series"
   ]
  },
  {
   "cell_type": "code",
   "execution_count": 37,
   "id": "704001ef-3fb7-4711-b156-7022cce1ce92",
   "metadata": {},
   "outputs": [],
   "source": [
    "## Combine test and predictions\n",
    "combined = pd.concat([test[\"target\"],pd.Series(predictions,index=test.index)],axis=1)\n",
    "combined.columns = [\"actual\",\"predictions\"]"
   ]
  },
  {
   "cell_type": "code",
   "execution_count": 38,
   "id": "7600afb8-7322-462e-b322-8b9aaab44777",
   "metadata": {},
   "outputs": [
    {
     "data": {
      "text/html": [
       "<div>\n",
       "<style scoped>\n",
       "    .dataframe tbody tr th:only-of-type {\n",
       "        vertical-align: middle;\n",
       "    }\n",
       "\n",
       "    .dataframe tbody tr th {\n",
       "        vertical-align: top;\n",
       "    }\n",
       "\n",
       "    .dataframe thead th {\n",
       "        text-align: right;\n",
       "    }\n",
       "</style>\n",
       "<table border=\"1\" class=\"dataframe\">\n",
       "  <thead>\n",
       "    <tr style=\"text-align: right;\">\n",
       "      <th></th>\n",
       "      <th>actual</th>\n",
       "      <th>predictions</th>\n",
       "    </tr>\n",
       "    <tr>\n",
       "      <th>DATE</th>\n",
       "      <th></th>\n",
       "      <th></th>\n",
       "    </tr>\n",
       "  </thead>\n",
       "  <tbody>\n",
       "    <tr>\n",
       "      <th>2021-02-03</th>\n",
       "      <td>40.0</td>\n",
       "      <td>35.535236</td>\n",
       "    </tr>\n",
       "    <tr>\n",
       "      <th>2021-02-04</th>\n",
       "      <td>35.0</td>\n",
       "      <td>38.412954</td>\n",
       "    </tr>\n",
       "    <tr>\n",
       "      <th>2021-02-05</th>\n",
       "      <td>21.0</td>\n",
       "      <td>34.175245</td>\n",
       "    </tr>\n",
       "    <tr>\n",
       "      <th>2021-02-06</th>\n",
       "      <td>21.0</td>\n",
       "      <td>26.001322</td>\n",
       "    </tr>\n",
       "    <tr>\n",
       "      <th>2021-02-07</th>\n",
       "      <td>20.0</td>\n",
       "      <td>23.145304</td>\n",
       "    </tr>\n",
       "    <tr>\n",
       "      <th>...</th>\n",
       "      <td>...</td>\n",
       "      <td>...</td>\n",
       "    </tr>\n",
       "    <tr>\n",
       "      <th>2022-02-07</th>\n",
       "      <td>31.0</td>\n",
       "      <td>34.171293</td>\n",
       "    </tr>\n",
       "    <tr>\n",
       "      <th>2022-02-08</th>\n",
       "      <td>43.0</td>\n",
       "      <td>34.705518</td>\n",
       "    </tr>\n",
       "    <tr>\n",
       "      <th>2022-02-09</th>\n",
       "      <td>37.0</td>\n",
       "      <td>41.961630</td>\n",
       "    </tr>\n",
       "    <tr>\n",
       "      <th>2022-02-10</th>\n",
       "      <td>38.0</td>\n",
       "      <td>41.750277</td>\n",
       "    </tr>\n",
       "    <tr>\n",
       "      <th>2022-02-11</th>\n",
       "      <td>36.0</td>\n",
       "      <td>40.569157</td>\n",
       "    </tr>\n",
       "  </tbody>\n",
       "</table>\n",
       "<p>374 rows × 2 columns</p>\n",
       "</div>"
      ],
      "text/plain": [
       "            actual  predictions\n",
       "DATE                           \n",
       "2021-02-03    40.0    35.535236\n",
       "2021-02-04    35.0    38.412954\n",
       "2021-02-05    21.0    34.175245\n",
       "2021-02-06    21.0    26.001322\n",
       "2021-02-07    20.0    23.145304\n",
       "...            ...          ...\n",
       "2022-02-07    31.0    34.171293\n",
       "2022-02-08    43.0    34.705518\n",
       "2022-02-09    37.0    41.961630\n",
       "2022-02-10    38.0    41.750277\n",
       "2022-02-11    36.0    40.569157\n",
       "\n",
       "[374 rows x 2 columns]"
      ]
     },
     "execution_count": 38,
     "metadata": {},
     "output_type": "execute_result"
    }
   ],
   "source": [
    "combined"
   ]
  },
  {
   "cell_type": "code",
   "execution_count": 39,
   "id": "9a5f93cb-54ad-4299-93ff-9b34d8c30bc9",
   "metadata": {},
   "outputs": [
    {
     "data": {
      "text/plain": [
       "<AxesSubplot:xlabel='DATE'>"
      ]
     },
     "execution_count": 39,
     "metadata": {},
     "output_type": "execute_result"
    },
    {
     "data": {
      "image/png": "[encoded data removed]",
      "text/plain": [
       "<Figure size 432x288 with 1 Axes>"
      ]
     },
     "metadata": {
      "needs_background": "light"
     },
     "output_type": "display_data"
    }
   ],
   "source": [
    "combined.plot()"
   ]
  },
  {
   "cell_type": "markdown",
   "id": "efaf7e98-fa33-4da3-a5ac-d14225b330cc",
   "metadata": {},
   "source": [
    "We can see that our predictions and the actual values seem to line up pretty well and the outliers aren't drastically different"
   ]
  },
  {
   "cell_type": "markdown",
   "id": "bd4fe30f-4014-4fe0-bb73-600334ed3991",
   "metadata": {},
   "source": [
    "Let's take a look at the coefficients of our regression model to see how the different columns are being used:"
   ]
  },
  {
   "cell_type": "code",
   "execution_count": 40,
   "id": "950c6047-b0e5-4414-9060-ea349ec64a98",
   "metadata": {},
   "outputs": [
    {
     "data": {
      "text/plain": [
       "array([-4.8801976 , -0.50489131,  0.60467597,  0.37963373])"
      ]
     },
     "execution_count": 40,
     "metadata": {},
     "output_type": "execute_result"
    }
   ],
   "source": [
    "reg.coef_"
   ]
  },
  {
   "cell_type": "markdown",
   "id": "3d8a11e3-db90-4f11-9fe1-7e2bc7f965d7",
   "metadata": {},
   "source": [
    "It looks like precipitation and snow have a negative impact on temperature while temp_max and temp_min are the biggest and smallest inputs for the model respectively"
   ]
  },
  {
   "cell_type": "markdown",
   "id": "b395582b-8a57-488c-97ee-6ceb0c8d70a9",
   "metadata": {},
   "source": [
    "Now that we've test our model and compared our predictions, let's create a function to do what we did above:"
   ]
  },
  {
   "cell_type": "code",
   "execution_count": 41,
   "id": "6d80091d-45b7-4ea7-8ef7-df54116d8121",
   "metadata": {},
   "outputs": [],
   "source": [
    "## Create Predictions given predictors, dataframe, and linear regression model\n",
    "def create_predictions(predictors, core_weather, reg):\n",
    "    ## Initialize our train and test sets\n",
    "    train = core_weather.loc[:\"2020-12-31\"]\n",
    "    test = core_weather.loc[\"2021-01-01\":]\n",
    "    \n",
    "    ## Fit regression model\n",
    "    reg.fit(train[predictors],train[\"target\"])\n",
    "    \n",
    "    ## Get Predictions\n",
    "    predictions = reg.predict(test[predictors])\n",
    "    \n",
    "    ## Get error metric of predictions compared to actual values                          \n",
    "    error = mean_absolute_error(test[\"target\"],predictions)\n",
    "    \n",
    "    ## Combine test and predictions\n",
    "    combined = pd.concat([test[\"target\"],pd.Series(predictions,index=test.index)],axis=1)\n",
    "    combined.columns = [\"actual\",\"predictions\"]   \n",
    "    \n",
    "    ## return error metric and combined series\n",
    "    return error, combined"
   ]
  },
  {
   "cell_type": "code",
   "execution_count": 42,
   "id": "28934496-8a6a-49d4-a1e9-9f1622b446ae",
   "metadata": {},
   "outputs": [
    {
     "data": {
      "text/plain": [
       "(5.920994826337824,\n",
       "             actual  predictions\n",
       " DATE                           \n",
       " 2021-02-03    40.0    35.535236\n",
       " 2021-02-04    35.0    38.412954\n",
       " 2021-02-05    21.0    34.175245\n",
       " 2021-02-06    21.0    26.001322\n",
       " 2021-02-07    20.0    23.145304\n",
       " ...            ...          ...\n",
       " 2022-02-07    31.0    34.171293\n",
       " 2022-02-08    43.0    34.705518\n",
       " 2022-02-09    37.0    41.961630\n",
       " 2022-02-10    38.0    41.750277\n",
       " 2022-02-11    36.0    40.569157\n",
       " \n",
       " [374 rows x 2 columns])"
      ]
     },
     "execution_count": 42,
     "metadata": {},
     "output_type": "execute_result"
    }
   ],
   "source": [
    "## Call create_predictions function\n",
    "create_predictions(predictors,core_weather,reg)"
   ]
  },
  {
   "cell_type": "markdown",
   "id": "91da469a-f383-4834-baa6-19447c6c326c",
   "metadata": {
    "tags": []
   },
   "source": [
    "## Identifying more Predictors\n",
    "\n",
    "Let's try to better our model by discovering more predictors\n",
    "\n",
    "One thing we can take a look at as the rolling mean for our max temperature column:"
   ]
  },
  {
   "cell_type": "code",
   "execution_count": 43,
   "id": "30cd53b9-3027-4957-936f-ea3fc4f9cff4",
   "metadata": {},
   "outputs": [],
   "source": [
    "import warnings\n",
    "warnings.filterwarnings('ignore')"
   ]
  },
  {
   "cell_type": "code",
   "execution_count": 44,
   "id": "611d9293-04ae-450b-b350-7bf106bca232",
   "metadata": {},
   "outputs": [],
   "source": [
    "## Create a column for the rolling mean every 30 days \n",
    "core_weather[\"month_max\"] = core_weather[\"temp_max\"].rolling(30).mean()"
   ]
  },
  {
   "cell_type": "code",
   "execution_count": 45,
   "id": "4417fd8f-ff4d-4ae8-8f69-2abcf2204ebc",
   "metadata": {},
   "outputs": [
    {
     "data": {
      "text/html": [
       "<div>\n",
       "<style scoped>\n",
       "    .dataframe tbody tr th:only-of-type {\n",
       "        vertical-align: middle;\n",
       "    }\n",
       "\n",
       "    .dataframe tbody tr th {\n",
       "        vertical-align: top;\n",
       "    }\n",
       "\n",
       "    .dataframe thead th {\n",
       "        text-align: right;\n",
       "    }\n",
       "</style>\n",
       "<table border=\"1\" class=\"dataframe\">\n",
       "  <thead>\n",
       "    <tr style=\"text-align: right;\">\n",
       "      <th></th>\n",
       "      <th>precip</th>\n",
       "      <th>snow</th>\n",
       "      <th>temp_max</th>\n",
       "      <th>temp_min</th>\n",
       "      <th>target</th>\n",
       "      <th>month_max</th>\n",
       "    </tr>\n",
       "    <tr>\n",
       "      <th>DATE</th>\n",
       "      <th></th>\n",
       "      <th></th>\n",
       "      <th></th>\n",
       "      <th></th>\n",
       "      <th></th>\n",
       "      <th></th>\n",
       "    </tr>\n",
       "  </thead>\n",
       "  <tbody>\n",
       "    <tr>\n",
       "      <th>2013-06-13</th>\n",
       "      <td>0.42</td>\n",
       "      <td>0.0</td>\n",
       "      <td>73.0</td>\n",
       "      <td>58.0</td>\n",
       "      <td>73.0</td>\n",
       "      <td>NaN</td>\n",
       "    </tr>\n",
       "    <tr>\n",
       "      <th>2013-06-14</th>\n",
       "      <td>0.00</td>\n",
       "      <td>0.0</td>\n",
       "      <td>73.0</td>\n",
       "      <td>55.0</td>\n",
       "      <td>78.0</td>\n",
       "      <td>NaN</td>\n",
       "    </tr>\n",
       "    <tr>\n",
       "      <th>2013-06-15</th>\n",
       "      <td>0.00</td>\n",
       "      <td>0.0</td>\n",
       "      <td>78.0</td>\n",
       "      <td>50.0</td>\n",
       "      <td>79.0</td>\n",
       "      <td>NaN</td>\n",
       "    </tr>\n",
       "    <tr>\n",
       "      <th>2013-06-16</th>\n",
       "      <td>0.38</td>\n",
       "      <td>0.0</td>\n",
       "      <td>79.0</td>\n",
       "      <td>62.0</td>\n",
       "      <td>76.0</td>\n",
       "      <td>NaN</td>\n",
       "    </tr>\n",
       "    <tr>\n",
       "      <th>2013-06-17</th>\n",
       "      <td>0.00</td>\n",
       "      <td>0.0</td>\n",
       "      <td>76.0</td>\n",
       "      <td>58.0</td>\n",
       "      <td>70.0</td>\n",
       "      <td>NaN</td>\n",
       "    </tr>\n",
       "    <tr>\n",
       "      <th>...</th>\n",
       "      <td>...</td>\n",
       "      <td>...</td>\n",
       "      <td>...</td>\n",
       "      <td>...</td>\n",
       "      <td>...</td>\n",
       "      <td>...</td>\n",
       "    </tr>\n",
       "    <tr>\n",
       "      <th>2022-02-07</th>\n",
       "      <td>0.00</td>\n",
       "      <td>0.0</td>\n",
       "      <td>32.0</td>\n",
       "      <td>19.0</td>\n",
       "      <td>31.0</td>\n",
       "      <td>25.533333</td>\n",
       "    </tr>\n",
       "    <tr>\n",
       "      <th>2022-02-08</th>\n",
       "      <td>0.00</td>\n",
       "      <td>0.0</td>\n",
       "      <td>31.0</td>\n",
       "      <td>22.0</td>\n",
       "      <td>43.0</td>\n",
       "      <td>25.300000</td>\n",
       "    </tr>\n",
       "    <tr>\n",
       "      <th>2022-02-09</th>\n",
       "      <td>0.00</td>\n",
       "      <td>0.0</td>\n",
       "      <td>43.0</td>\n",
       "      <td>22.0</td>\n",
       "      <td>37.0</td>\n",
       "      <td>26.100000</td>\n",
       "    </tr>\n",
       "    <tr>\n",
       "      <th>2022-02-10</th>\n",
       "      <td>0.00</td>\n",
       "      <td>0.0</td>\n",
       "      <td>37.0</td>\n",
       "      <td>31.0</td>\n",
       "      <td>38.0</td>\n",
       "      <td>26.500000</td>\n",
       "    </tr>\n",
       "    <tr>\n",
       "      <th>2022-02-11</th>\n",
       "      <td>0.20</td>\n",
       "      <td>0.1</td>\n",
       "      <td>38.0</td>\n",
       "      <td>29.0</td>\n",
       "      <td>36.0</td>\n",
       "      <td>26.600000</td>\n",
       "    </tr>\n",
       "  </tbody>\n",
       "</table>\n",
       "<p>3120 rows × 6 columns</p>\n",
       "</div>"
      ],
      "text/plain": [
       "            precip  snow  temp_max  temp_min  target  month_max\n",
       "DATE                                                           \n",
       "2013-06-13    0.42   0.0      73.0      58.0    73.0        NaN\n",
       "2013-06-14    0.00   0.0      73.0      55.0    78.0        NaN\n",
       "2013-06-15    0.00   0.0      78.0      50.0    79.0        NaN\n",
       "2013-06-16    0.38   0.0      79.0      62.0    76.0        NaN\n",
       "2013-06-17    0.00   0.0      76.0      58.0    70.0        NaN\n",
       "...            ...   ...       ...       ...     ...        ...\n",
       "2022-02-07    0.00   0.0      32.0      19.0    31.0  25.533333\n",
       "2022-02-08    0.00   0.0      31.0      22.0    43.0  25.300000\n",
       "2022-02-09    0.00   0.0      43.0      22.0    37.0  26.100000\n",
       "2022-02-10    0.00   0.0      37.0      31.0    38.0  26.500000\n",
       "2022-02-11    0.20   0.1      38.0      29.0    36.0  26.600000\n",
       "\n",
       "[3120 rows x 6 columns]"
      ]
     },
     "execution_count": 45,
     "metadata": {},
     "output_type": "execute_result"
    }
   ],
   "source": [
    "core_weather"
   ]
  },
  {
   "cell_type": "markdown",
   "id": "d475108b-4de0-445f-932a-e1edaa90a3b0",
   "metadata": {},
   "source": [
    "The values in the beginning of the month_max column are null values because these days don't have 30 days before them to calculate the mean for. We need to remove these null values in order to pass the dataframe to our algorithm"
   ]
  },
  {
   "cell_type": "markdown",
   "id": "e5c215fd-3beb-4d72-b9e7-2b767d38275f",
   "metadata": {},
   "source": [
    "Let's try to find some interesting ratios:"
   ]
  },
  {
   "cell_type": "code",
   "execution_count": 46,
   "id": "b1d5d906-bc0d-4e27-a3ad-0c3fe6b9a33a",
   "metadata": {},
   "outputs": [],
   "source": [
    "## ratio for the difference between temperatures on each day compared with monthly mean \n",
    "core_weather[\"month_day_max\"] = core_weather[\"month_max\"] / core_weather[\"temp_max\"]"
   ]
  },
  {
   "cell_type": "code",
   "execution_count": 47,
   "id": "756ac98c-233f-4c20-84bd-6d5de9416f12",
   "metadata": {},
   "outputs": [],
   "source": [
    "## Ratio between max and min temperatures\n",
    "core_weather[\"max_min\"] = core_weather[\"temp_max\"] / core_weather[\"temp_min\"]"
   ]
  },
  {
   "cell_type": "markdown",
   "id": "4c8955bb-7bca-4a3c-8e28-83272e29092d",
   "metadata": {},
   "source": [
    "Now that we created 3 more columns we can add these to the predictors list to better our algorithm"
   ]
  },
  {
   "cell_type": "code",
   "execution_count": 48,
   "id": "829c5ea1-38af-4792-976d-125479a7badc",
   "metadata": {},
   "outputs": [],
   "source": [
    "## Add columns to predictors\n",
    "predictors = [\"precip\", \"temp_max\", \"temp_min\", \"month_day_max\", \"max_min\"]"
   ]
  },
  {
   "cell_type": "code",
   "execution_count": 49,
   "id": "aead7cfd-19d5-4f92-8251-267367b5ac72",
   "metadata": {},
   "outputs": [],
   "source": [
    "## Keep rows where month_max isn't null\n",
    "core_weather = core_weather.iloc[30:,:].copy()"
   ]
  },
  {
   "cell_type": "code",
   "execution_count": 50,
   "id": "e136f561-ff63-4fb9-a401-bee7e06744aa",
   "metadata": {},
   "outputs": [
    {
     "data": {
      "text/plain": [
       "precip  snow   temp_max  temp_min  target  month_max  month_day_max  max_min\n",
       "False   False  False     False     False   False      False          False      3079\n",
       "                                                                     True         11\n",
       "dtype: int64"
      ]
     },
     "execution_count": 50,
     "metadata": {},
     "output_type": "execute_result"
    }
   ],
   "source": [
    "import numpy as np\n",
    "\n",
    "## Check for infinity values\n",
    "core_weather.isin([np.inf, -np.inf]).value_counts()"
   ]
  },
  {
   "cell_type": "markdown",
   "id": "265f2462-8408-4605-be2d-35f2607eb425",
   "metadata": {},
   "source": [
    "There's 11 infinity values in the max_min column let's look at these columns as we need to deal with them before passing the dataset to our prediction function.\n",
    "\n",
    "Let's replace the infinite values with null values"
   ]
  },
  {
   "cell_type": "code",
   "execution_count": 51,
   "id": "4736fb45-30c6-45f5-8285-a3e5b8f7a0e7",
   "metadata": {},
   "outputs": [],
   "source": [
    "## Replace infinites with nulls\n",
    "core_weather = core_weather.replace([np.inf, -np.inf],np.nan)"
   ]
  },
  {
   "cell_type": "code",
   "execution_count": 52,
   "id": "73fea3f0-bfc5-4d40-9498-55e4f124d73d",
   "metadata": {},
   "outputs": [
    {
     "data": {
      "text/plain": [
       "precip  snow   temp_max  temp_min  target  month_max  month_day_max  max_min\n",
       "False   False  False     False     False   False      False          False      3090\n",
       "dtype: int64"
      ]
     },
     "execution_count": 52,
     "metadata": {},
     "output_type": "execute_result"
    }
   ],
   "source": [
    "core_weather.isin([np.inf, -np.inf]).value_counts()"
   ]
  },
  {
   "cell_type": "code",
   "execution_count": 53,
   "id": "e1e62c09-22e5-4102-a4d5-d7bedf4b844a",
   "metadata": {},
   "outputs": [
    {
     "data": {
      "text/plain": [
       "precip            0\n",
       "snow              0\n",
       "temp_max          0\n",
       "temp_min          0\n",
       "target            0\n",
       "month_max         0\n",
       "month_day_max     0\n",
       "max_min          11\n",
       "dtype: int64"
      ]
     },
     "execution_count": 53,
     "metadata": {},
     "output_type": "execute_result"
    }
   ],
   "source": [
    "core_weather.apply(pd.isnull).sum()"
   ]
  },
  {
   "cell_type": "code",
   "execution_count": 54,
   "id": "6e947809-f74c-459d-aaf3-ca0063c928ae",
   "metadata": {},
   "outputs": [],
   "source": [
    "## Keep only rows without null values\n",
    "core_weather = core_weather[~core_weather[\"max_min\"].isnull()]"
   ]
  },
  {
   "cell_type": "code",
   "execution_count": 55,
   "id": "fa2751e8-abb1-4284-9062-d72ab3b69433",
   "metadata": {},
   "outputs": [
    {
     "data": {
      "text/plain": [
       "precip           0\n",
       "snow             0\n",
       "temp_max         0\n",
       "temp_min         0\n",
       "target           0\n",
       "month_max        0\n",
       "month_day_max    0\n",
       "max_min          0\n",
       "dtype: int64"
      ]
     },
     "execution_count": 55,
     "metadata": {},
     "output_type": "execute_result"
    }
   ],
   "source": [
    "core_weather.apply(pd.isnull).sum()"
   ]
  },
  {
   "cell_type": "code",
   "execution_count": 56,
   "id": "8fd34914-ae24-4a1a-8e07-f21f0f79069c",
   "metadata": {},
   "outputs": [],
   "source": [
    "## Create predictions for new predictors\n",
    "error, combined = create_predictions(predictors,core_weather,reg)"
   ]
  },
  {
   "cell_type": "code",
   "execution_count": 57,
   "id": "1cf62b62-1d24-4aff-bebb-8971b79e18c4",
   "metadata": {},
   "outputs": [
    {
     "data": {
      "text/plain": [
       "5.880628965677671"
      ]
     },
     "execution_count": 57,
     "metadata": {},
     "output_type": "execute_result"
    }
   ],
   "source": [
    "## Display error metric\n",
    "error"
   ]
  },
  {
   "cell_type": "markdown",
   "id": "1266f9db-44d2-4af6-8c8d-829f666b3911",
   "metadata": {},
   "source": [
    "Our previous predictions were 5.92 degrees off. Using additional predictors reduced the error metric by 0.04 to 5.88 degrees"
   ]
  },
  {
   "cell_type": "code",
   "execution_count": 58,
   "id": "cdb9c913-0d30-41d7-a1bb-a2e1e7f1ab17",
   "metadata": {},
   "outputs": [
    {
     "data": {
      "text/plain": [
       "<AxesSubplot:xlabel='DATE'>"
      ]
     },
     "execution_count": 58,
     "metadata": {},
     "output_type": "execute_result"
    },
    {
     "data": {
      "image/png": "[encoded data removed]",
      "text/plain": [
       "<Figure size 432x288 with 1 Axes>"
      ]
     },
     "metadata": {
      "needs_background": "light"
     },
     "output_type": "display_data"
    }
   ],
   "source": [
    "combined.plot()"
   ]
  },
  {
   "cell_type": "markdown",
   "id": "e65d8085-8719-4db6-90af-098482c048f9",
   "metadata": {},
   "source": [
    "Let's try to lower our error metric even more by adding more predictors to better our prediction. \n",
    "\n",
    "We can add the monthly average temperature:"
   ]
  },
  {
   "cell_type": "code",
   "execution_count": 59,
   "id": "6b7569cf-defd-436d-b292-1ec8bb69e06a",
   "metadata": {},
   "outputs": [],
   "source": [
    "## Group maximum temperature by month and get expanding mean\n",
    "core_weather[\"monthly_avg\"] = core_weather[\"temp_max\"].groupby(core_weather.index.month).apply(lambda x: x.expanding(1).mean())"
   ]
  },
  {
   "cell_type": "markdown",
   "id": "269c853c-bce2-49bc-af32-605f60a1351c",
   "metadata": {},
   "source": [
    "Since we're working with time series data we don't want to take data that we don't know yet to calculate the mean for each given month. We used expanding as it only takes previous rows and calculates the mean. "
   ]
  },
  {
   "cell_type": "code",
   "execution_count": 60,
   "id": "ad02317c-f6a0-4575-a3a3-514223d7447c",
   "metadata": {},
   "outputs": [
    {
     "data": {
      "text/html": [
       "<div>\n",
       "<style scoped>\n",
       "    .dataframe tbody tr th:only-of-type {\n",
       "        vertical-align: middle;\n",
       "    }\n",
       "\n",
       "    .dataframe tbody tr th {\n",
       "        vertical-align: top;\n",
       "    }\n",
       "\n",
       "    .dataframe thead th {\n",
       "        text-align: right;\n",
       "    }\n",
       "</style>\n",
       "<table border=\"1\" class=\"dataframe\">\n",
       "  <thead>\n",
       "    <tr style=\"text-align: right;\">\n",
       "      <th></th>\n",
       "      <th>precip</th>\n",
       "      <th>snow</th>\n",
       "      <th>temp_max</th>\n",
       "      <th>temp_min</th>\n",
       "      <th>target</th>\n",
       "      <th>month_max</th>\n",
       "      <th>month_day_max</th>\n",
       "      <th>max_min</th>\n",
       "      <th>monthly_avg</th>\n",
       "    </tr>\n",
       "    <tr>\n",
       "      <th>DATE</th>\n",
       "      <th></th>\n",
       "      <th></th>\n",
       "      <th></th>\n",
       "      <th></th>\n",
       "      <th></th>\n",
       "      <th></th>\n",
       "      <th></th>\n",
       "      <th></th>\n",
       "      <th></th>\n",
       "    </tr>\n",
       "  </thead>\n",
       "  <tbody>\n",
       "    <tr>\n",
       "      <th>2013-07-15</th>\n",
       "      <td>0.00</td>\n",
       "      <td>0.0</td>\n",
       "      <td>88.0</td>\n",
       "      <td>72.0</td>\n",
       "      <td>91.0</td>\n",
       "      <td>79.200000</td>\n",
       "      <td>0.900000</td>\n",
       "      <td>1.222222</td>\n",
       "      <td>88.000000</td>\n",
       "    </tr>\n",
       "    <tr>\n",
       "      <th>2013-07-16</th>\n",
       "      <td>0.00</td>\n",
       "      <td>0.0</td>\n",
       "      <td>91.0</td>\n",
       "      <td>72.0</td>\n",
       "      <td>95.0</td>\n",
       "      <td>79.800000</td>\n",
       "      <td>0.876923</td>\n",
       "      <td>1.263889</td>\n",
       "      <td>89.500000</td>\n",
       "    </tr>\n",
       "    <tr>\n",
       "      <th>2013-07-17</th>\n",
       "      <td>0.00</td>\n",
       "      <td>0.0</td>\n",
       "      <td>95.0</td>\n",
       "      <td>75.0</td>\n",
       "      <td>93.0</td>\n",
       "      <td>80.366667</td>\n",
       "      <td>0.845965</td>\n",
       "      <td>1.266667</td>\n",
       "      <td>91.333333</td>\n",
       "    </tr>\n",
       "    <tr>\n",
       "      <th>2013-07-18</th>\n",
       "      <td>0.00</td>\n",
       "      <td>0.0</td>\n",
       "      <td>93.0</td>\n",
       "      <td>75.0</td>\n",
       "      <td>95.0</td>\n",
       "      <td>80.833333</td>\n",
       "      <td>0.869176</td>\n",
       "      <td>1.240000</td>\n",
       "      <td>91.750000</td>\n",
       "    </tr>\n",
       "    <tr>\n",
       "      <th>2013-07-19</th>\n",
       "      <td>0.34</td>\n",
       "      <td>0.0</td>\n",
       "      <td>95.0</td>\n",
       "      <td>70.0</td>\n",
       "      <td>83.0</td>\n",
       "      <td>81.466667</td>\n",
       "      <td>0.857544</td>\n",
       "      <td>1.357143</td>\n",
       "      <td>92.400000</td>\n",
       "    </tr>\n",
       "    <tr>\n",
       "      <th>...</th>\n",
       "      <td>...</td>\n",
       "      <td>...</td>\n",
       "      <td>...</td>\n",
       "      <td>...</td>\n",
       "      <td>...</td>\n",
       "      <td>...</td>\n",
       "      <td>...</td>\n",
       "      <td>...</td>\n",
       "      <td>...</td>\n",
       "    </tr>\n",
       "    <tr>\n",
       "      <th>2022-02-07</th>\n",
       "      <td>0.00</td>\n",
       "      <td>0.0</td>\n",
       "      <td>32.0</td>\n",
       "      <td>19.0</td>\n",
       "      <td>31.0</td>\n",
       "      <td>25.533333</td>\n",
       "      <td>0.797917</td>\n",
       "      <td>1.684211</td>\n",
       "      <td>30.735683</td>\n",
       "    </tr>\n",
       "    <tr>\n",
       "      <th>2022-02-08</th>\n",
       "      <td>0.00</td>\n",
       "      <td>0.0</td>\n",
       "      <td>31.0</td>\n",
       "      <td>22.0</td>\n",
       "      <td>43.0</td>\n",
       "      <td>25.300000</td>\n",
       "      <td>0.816129</td>\n",
       "      <td>1.409091</td>\n",
       "      <td>30.736842</td>\n",
       "    </tr>\n",
       "    <tr>\n",
       "      <th>2022-02-09</th>\n",
       "      <td>0.00</td>\n",
       "      <td>0.0</td>\n",
       "      <td>43.0</td>\n",
       "      <td>22.0</td>\n",
       "      <td>37.0</td>\n",
       "      <td>26.100000</td>\n",
       "      <td>0.606977</td>\n",
       "      <td>1.954545</td>\n",
       "      <td>30.790393</td>\n",
       "    </tr>\n",
       "    <tr>\n",
       "      <th>2022-02-10</th>\n",
       "      <td>0.00</td>\n",
       "      <td>0.0</td>\n",
       "      <td>37.0</td>\n",
       "      <td>31.0</td>\n",
       "      <td>38.0</td>\n",
       "      <td>26.500000</td>\n",
       "      <td>0.716216</td>\n",
       "      <td>1.193548</td>\n",
       "      <td>30.817391</td>\n",
       "    </tr>\n",
       "    <tr>\n",
       "      <th>2022-02-11</th>\n",
       "      <td>0.20</td>\n",
       "      <td>0.1</td>\n",
       "      <td>38.0</td>\n",
       "      <td>29.0</td>\n",
       "      <td>36.0</td>\n",
       "      <td>26.600000</td>\n",
       "      <td>0.700000</td>\n",
       "      <td>1.310345</td>\n",
       "      <td>30.848485</td>\n",
       "    </tr>\n",
       "  </tbody>\n",
       "</table>\n",
       "<p>3079 rows × 9 columns</p>\n",
       "</div>"
      ],
      "text/plain": [
       "            precip  snow  temp_max  temp_min  target  month_max  \\\n",
       "DATE                                                              \n",
       "2013-07-15    0.00   0.0      88.0      72.0    91.0  79.200000   \n",
       "2013-07-16    0.00   0.0      91.0      72.0    95.0  79.800000   \n",
       "2013-07-17    0.00   0.0      95.0      75.0    93.0  80.366667   \n",
       "2013-07-18    0.00   0.0      93.0      75.0    95.0  80.833333   \n",
       "2013-07-19    0.34   0.0      95.0      70.0    83.0  81.466667   \n",
       "...            ...   ...       ...       ...     ...        ...   \n",
       "2022-02-07    0.00   0.0      32.0      19.0    31.0  25.533333   \n",
       "2022-02-08    0.00   0.0      31.0      22.0    43.0  25.300000   \n",
       "2022-02-09    0.00   0.0      43.0      22.0    37.0  26.100000   \n",
       "2022-02-10    0.00   0.0      37.0      31.0    38.0  26.500000   \n",
       "2022-02-11    0.20   0.1      38.0      29.0    36.0  26.600000   \n",
       "\n",
       "            month_day_max   max_min  monthly_avg  \n",
       "DATE                                              \n",
       "2013-07-15       0.900000  1.222222    88.000000  \n",
       "2013-07-16       0.876923  1.263889    89.500000  \n",
       "2013-07-17       0.845965  1.266667    91.333333  \n",
       "2013-07-18       0.869176  1.240000    91.750000  \n",
       "2013-07-19       0.857544  1.357143    92.400000  \n",
       "...                   ...       ...          ...  \n",
       "2022-02-07       0.797917  1.684211    30.735683  \n",
       "2022-02-08       0.816129  1.409091    30.736842  \n",
       "2022-02-09       0.606977  1.954545    30.790393  \n",
       "2022-02-10       0.716216  1.193548    30.817391  \n",
       "2022-02-11       0.700000  1.310345    30.848485  \n",
       "\n",
       "[3079 rows x 9 columns]"
      ]
     },
     "execution_count": 60,
     "metadata": {},
     "output_type": "execute_result"
    }
   ],
   "source": [
    "core_weather"
   ]
  },
  {
   "cell_type": "markdown",
   "id": "9d225028-1209-4b95-83d5-d4e9687cdb14",
   "metadata": {},
   "source": [
    "Let's do the same to find the average for every day of the year:"
   ]
  },
  {
   "cell_type": "code",
   "execution_count": 61,
   "id": "723d0c8e-fe63-4e17-adee-cf5a2f764c0b",
   "metadata": {},
   "outputs": [],
   "source": [
    "## Group maximum temperature by day and get expanding mean\n",
    "core_weather[\"day_of_year_avg\"] = core_weather[\"temp_max\"].groupby(core_weather.index.day).apply(lambda x: x.expanding(1).mean())"
   ]
  },
  {
   "cell_type": "markdown",
   "id": "8bf9142a-05fb-4fa7-bc91-0d987a769c0e",
   "metadata": {},
   "source": [
    "Again, we use expanding to calculate for every previous day of the year"
   ]
  },
  {
   "cell_type": "code",
   "execution_count": 62,
   "id": "fb35e47d-348d-4b7a-986b-ba817af6059d",
   "metadata": {},
   "outputs": [
    {
     "data": {
      "text/html": [
       "<div>\n",
       "<style scoped>\n",
       "    .dataframe tbody tr th:only-of-type {\n",
       "        vertical-align: middle;\n",
       "    }\n",
       "\n",
       "    .dataframe tbody tr th {\n",
       "        vertical-align: top;\n",
       "    }\n",
       "\n",
       "    .dataframe thead th {\n",
       "        text-align: right;\n",
       "    }\n",
       "</style>\n",
       "<table border=\"1\" class=\"dataframe\">\n",
       "  <thead>\n",
       "    <tr style=\"text-align: right;\">\n",
       "      <th></th>\n",
       "      <th>precip</th>\n",
       "      <th>snow</th>\n",
       "      <th>temp_max</th>\n",
       "      <th>temp_min</th>\n",
       "      <th>target</th>\n",
       "      <th>month_max</th>\n",
       "      <th>month_day_max</th>\n",
       "      <th>max_min</th>\n",
       "      <th>monthly_avg</th>\n",
       "      <th>day_of_year_avg</th>\n",
       "    </tr>\n",
       "    <tr>\n",
       "      <th>DATE</th>\n",
       "      <th></th>\n",
       "      <th></th>\n",
       "      <th></th>\n",
       "      <th></th>\n",
       "      <th></th>\n",
       "      <th></th>\n",
       "      <th></th>\n",
       "      <th></th>\n",
       "      <th></th>\n",
       "      <th></th>\n",
       "    </tr>\n",
       "  </thead>\n",
       "  <tbody>\n",
       "    <tr>\n",
       "      <th>2013-07-15</th>\n",
       "      <td>0.00</td>\n",
       "      <td>0.0</td>\n",
       "      <td>88.0</td>\n",
       "      <td>72.0</td>\n",
       "      <td>91.0</td>\n",
       "      <td>79.200000</td>\n",
       "      <td>0.900000</td>\n",
       "      <td>1.222222</td>\n",
       "      <td>88.000000</td>\n",
       "      <td>88.000000</td>\n",
       "    </tr>\n",
       "    <tr>\n",
       "      <th>2013-07-16</th>\n",
       "      <td>0.00</td>\n",
       "      <td>0.0</td>\n",
       "      <td>91.0</td>\n",
       "      <td>72.0</td>\n",
       "      <td>95.0</td>\n",
       "      <td>79.800000</td>\n",
       "      <td>0.876923</td>\n",
       "      <td>1.263889</td>\n",
       "      <td>89.500000</td>\n",
       "      <td>91.000000</td>\n",
       "    </tr>\n",
       "    <tr>\n",
       "      <th>2013-07-17</th>\n",
       "      <td>0.00</td>\n",
       "      <td>0.0</td>\n",
       "      <td>95.0</td>\n",
       "      <td>75.0</td>\n",
       "      <td>93.0</td>\n",
       "      <td>80.366667</td>\n",
       "      <td>0.845965</td>\n",
       "      <td>1.266667</td>\n",
       "      <td>91.333333</td>\n",
       "      <td>95.000000</td>\n",
       "    </tr>\n",
       "    <tr>\n",
       "      <th>2013-07-18</th>\n",
       "      <td>0.00</td>\n",
       "      <td>0.0</td>\n",
       "      <td>93.0</td>\n",
       "      <td>75.0</td>\n",
       "      <td>95.0</td>\n",
       "      <td>80.833333</td>\n",
       "      <td>0.869176</td>\n",
       "      <td>1.240000</td>\n",
       "      <td>91.750000</td>\n",
       "      <td>93.000000</td>\n",
       "    </tr>\n",
       "    <tr>\n",
       "      <th>2013-07-19</th>\n",
       "      <td>0.34</td>\n",
       "      <td>0.0</td>\n",
       "      <td>95.0</td>\n",
       "      <td>70.0</td>\n",
       "      <td>83.0</td>\n",
       "      <td>81.466667</td>\n",
       "      <td>0.857544</td>\n",
       "      <td>1.357143</td>\n",
       "      <td>92.400000</td>\n",
       "      <td>95.000000</td>\n",
       "    </tr>\n",
       "    <tr>\n",
       "      <th>...</th>\n",
       "      <td>...</td>\n",
       "      <td>...</td>\n",
       "      <td>...</td>\n",
       "      <td>...</td>\n",
       "      <td>...</td>\n",
       "      <td>...</td>\n",
       "      <td>...</td>\n",
       "      <td>...</td>\n",
       "      <td>...</td>\n",
       "      <td>...</td>\n",
       "    </tr>\n",
       "    <tr>\n",
       "      <th>2022-02-07</th>\n",
       "      <td>0.00</td>\n",
       "      <td>0.0</td>\n",
       "      <td>32.0</td>\n",
       "      <td>19.0</td>\n",
       "      <td>31.0</td>\n",
       "      <td>25.533333</td>\n",
       "      <td>0.797917</td>\n",
       "      <td>1.684211</td>\n",
       "      <td>30.735683</td>\n",
       "      <td>55.794118</td>\n",
       "    </tr>\n",
       "    <tr>\n",
       "      <th>2022-02-08</th>\n",
       "      <td>0.00</td>\n",
       "      <td>0.0</td>\n",
       "      <td>31.0</td>\n",
       "      <td>22.0</td>\n",
       "      <td>43.0</td>\n",
       "      <td>25.300000</td>\n",
       "      <td>0.816129</td>\n",
       "      <td>1.409091</td>\n",
       "      <td>30.736842</td>\n",
       "      <td>55.720000</td>\n",
       "    </tr>\n",
       "    <tr>\n",
       "      <th>2022-02-09</th>\n",
       "      <td>0.00</td>\n",
       "      <td>0.0</td>\n",
       "      <td>43.0</td>\n",
       "      <td>22.0</td>\n",
       "      <td>37.0</td>\n",
       "      <td>26.100000</td>\n",
       "      <td>0.606977</td>\n",
       "      <td>1.954545</td>\n",
       "      <td>30.790393</td>\n",
       "      <td>56.764706</td>\n",
       "    </tr>\n",
       "    <tr>\n",
       "      <th>2022-02-10</th>\n",
       "      <td>0.00</td>\n",
       "      <td>0.0</td>\n",
       "      <td>37.0</td>\n",
       "      <td>31.0</td>\n",
       "      <td>38.0</td>\n",
       "      <td>26.500000</td>\n",
       "      <td>0.716216</td>\n",
       "      <td>1.193548</td>\n",
       "      <td>30.817391</td>\n",
       "      <td>57.568627</td>\n",
       "    </tr>\n",
       "    <tr>\n",
       "      <th>2022-02-11</th>\n",
       "      <td>0.20</td>\n",
       "      <td>0.1</td>\n",
       "      <td>38.0</td>\n",
       "      <td>29.0</td>\n",
       "      <td>36.0</td>\n",
       "      <td>26.600000</td>\n",
       "      <td>0.700000</td>\n",
       "      <td>1.310345</td>\n",
       "      <td>30.848485</td>\n",
       "      <td>57.264706</td>\n",
       "    </tr>\n",
       "  </tbody>\n",
       "</table>\n",
       "<p>3079 rows × 10 columns</p>\n",
       "</div>"
      ],
      "text/plain": [
       "            precip  snow  temp_max  temp_min  target  month_max  \\\n",
       "DATE                                                              \n",
       "2013-07-15    0.00   0.0      88.0      72.0    91.0  79.200000   \n",
       "2013-07-16    0.00   0.0      91.0      72.0    95.0  79.800000   \n",
       "2013-07-17    0.00   0.0      95.0      75.0    93.0  80.366667   \n",
       "2013-07-18    0.00   0.0      93.0      75.0    95.0  80.833333   \n",
       "2013-07-19    0.34   0.0      95.0      70.0    83.0  81.466667   \n",
       "...            ...   ...       ...       ...     ...        ...   \n",
       "2022-02-07    0.00   0.0      32.0      19.0    31.0  25.533333   \n",
       "2022-02-08    0.00   0.0      31.0      22.0    43.0  25.300000   \n",
       "2022-02-09    0.00   0.0      43.0      22.0    37.0  26.100000   \n",
       "2022-02-10    0.00   0.0      37.0      31.0    38.0  26.500000   \n",
       "2022-02-11    0.20   0.1      38.0      29.0    36.0  26.600000   \n",
       "\n",
       "            month_day_max   max_min  monthly_avg  day_of_year_avg  \n",
       "DATE                                                               \n",
       "2013-07-15       0.900000  1.222222    88.000000        88.000000  \n",
       "2013-07-16       0.876923  1.263889    89.500000        91.000000  \n",
       "2013-07-17       0.845965  1.266667    91.333333        95.000000  \n",
       "2013-07-18       0.869176  1.240000    91.750000        93.000000  \n",
       "2013-07-19       0.857544  1.357143    92.400000        95.000000  \n",
       "...                   ...       ...          ...              ...  \n",
       "2022-02-07       0.797917  1.684211    30.735683        55.794118  \n",
       "2022-02-08       0.816129  1.409091    30.736842        55.720000  \n",
       "2022-02-09       0.606977  1.954545    30.790393        56.764706  \n",
       "2022-02-10       0.716216  1.193548    30.817391        57.568627  \n",
       "2022-02-11       0.700000  1.310345    30.848485        57.264706  \n",
       "\n",
       "[3079 rows x 10 columns]"
      ]
     },
     "execution_count": 62,
     "metadata": {},
     "output_type": "execute_result"
    }
   ],
   "source": [
    "core_weather"
   ]
  },
  {
   "cell_type": "markdown",
   "id": "8911fb13-66d5-41f1-992b-67617a808230",
   "metadata": {},
   "source": [
    "Let's update our predictors with the new columns and call the function again"
   ]
  },
  {
   "cell_type": "code",
   "execution_count": 63,
   "id": "32910b62-0637-4714-b339-f2d26412a296",
   "metadata": {},
   "outputs": [],
   "source": [
    "## Update predictors\n",
    "predictors = predictors = [\"precip\", \"temp_max\", \"temp_min\", \"month_day_max\", \"max_min\", \"monthly_avg\",\"day_of_year_avg\"]"
   ]
  },
  {
   "cell_type": "code",
   "execution_count": 64,
   "id": "6dde1573-62ad-46c7-bd42-2da05316fab0",
   "metadata": {},
   "outputs": [],
   "source": [
    "## Create new predictions\n",
    "error, combined = create_predictions(predictors, core_weather,reg)"
   ]
  },
  {
   "cell_type": "code",
   "execution_count": 65,
   "id": "0a12944c-bafa-4c0b-88b8-4e3901a79495",
   "metadata": {},
   "outputs": [
    {
     "data": {
      "text/plain": [
       "5.544195661238977"
      ]
     },
     "execution_count": 65,
     "metadata": {},
     "output_type": "execute_result"
    }
   ],
   "source": [
    "## Display error metric\n",
    "error"
   ]
  },
  {
   "cell_type": "markdown",
   "id": "0d0c339d-71be-4d8e-88a7-ea1dda6a87c7",
   "metadata": {},
   "source": [
    "We've now reduced the error metric from 5.88 to 5.54 degrees farenheit"
   ]
  },
  {
   "cell_type": "code",
   "execution_count": 66,
   "id": "04c04477-3858-46be-8207-7d48ef270cb7",
   "metadata": {},
   "outputs": [
    {
     "data": {
      "text/plain": [
       "array([-5.50670041,  0.48890937,  0.26047823,  0.34920463, -0.14766929,\n",
       "        0.27272598, -0.12350185])"
      ]
     },
     "execution_count": 66,
     "metadata": {},
     "output_type": "execute_result"
    }
   ],
   "source": [
    "## Display coefficients for regression model\n",
    "reg.coef_"
   ]
  },
  {
   "cell_type": "code",
   "execution_count": 67,
   "id": "c8d22d45-ff15-4726-9ae4-def3cbddcea1",
   "metadata": {},
   "outputs": [
    {
     "data": {
      "text/plain": [
       "precip             0.000299\n",
       "snow              -0.270205\n",
       "temp_max           0.929384\n",
       "temp_min           0.913662\n",
       "target             1.000000\n",
       "month_max          0.874069\n",
       "month_day_max     -0.210922\n",
       "max_min           -0.140823\n",
       "monthly_avg        0.892070\n",
       "day_of_year_avg    0.189516\n",
       "Name: target, dtype: float64"
      ]
     },
     "execution_count": 67,
     "metadata": {},
     "output_type": "execute_result"
    }
   ],
   "source": [
    "## Display correlation with target\n",
    "core_weather.corr()[\"target\"]"
   ]
  },
  {
   "cell_type": "markdown",
   "id": "5def0474-236f-4b9a-b5c1-735efc813b34",
   "metadata": {},
   "source": [
    "Many of these columns (temp_max, temp_min,month_max,monthly_avg) correlate pretty closely to the target column"
   ]
  },
  {
   "cell_type": "code",
   "execution_count": 68,
   "id": "d9a3fe20-2f03-45fb-9477-3892b8742048",
   "metadata": {},
   "outputs": [],
   "source": [
    "combined[\"diff\"] = (combined[\"actual\"] - combined[\"predictions\"]).abs()"
   ]
  },
  {
   "cell_type": "code",
   "execution_count": 69,
   "id": "14fa5f15-1355-4a13-83a5-b25ddae18a15",
   "metadata": {},
   "outputs": [
    {
     "data": {
      "text/html": [
       "<div>\n",
       "<style scoped>\n",
       "    .dataframe tbody tr th:only-of-type {\n",
       "        vertical-align: middle;\n",
       "    }\n",
       "\n",
       "    .dataframe tbody tr th {\n",
       "        vertical-align: top;\n",
       "    }\n",
       "\n",
       "    .dataframe thead th {\n",
       "        text-align: right;\n",
       "    }\n",
       "</style>\n",
       "<table border=\"1\" class=\"dataframe\">\n",
       "  <thead>\n",
       "    <tr style=\"text-align: right;\">\n",
       "      <th></th>\n",
       "      <th>actual</th>\n",
       "      <th>predictions</th>\n",
       "      <th>diff</th>\n",
       "    </tr>\n",
       "    <tr>\n",
       "      <th>DATE</th>\n",
       "      <th></th>\n",
       "      <th></th>\n",
       "      <th></th>\n",
       "    </tr>\n",
       "  </thead>\n",
       "  <tbody>\n",
       "    <tr>\n",
       "      <th>2021-03-29</th>\n",
       "      <td>69.0</td>\n",
       "      <td>44.637586</td>\n",
       "      <td>24.362414</td>\n",
       "    </tr>\n",
       "    <tr>\n",
       "      <th>2021-05-24</th>\n",
       "      <td>92.0</td>\n",
       "      <td>70.149448</td>\n",
       "      <td>21.850552</td>\n",
       "    </tr>\n",
       "    <tr>\n",
       "      <th>2021-12-10</th>\n",
       "      <td>64.0</td>\n",
       "      <td>42.483280</td>\n",
       "      <td>21.516720</td>\n",
       "    </tr>\n",
       "    <tr>\n",
       "      <th>2021-04-22</th>\n",
       "      <td>67.0</td>\n",
       "      <td>45.677255</td>\n",
       "      <td>21.322745</td>\n",
       "    </tr>\n",
       "    <tr>\n",
       "      <th>2022-01-14</th>\n",
       "      <td>8.0</td>\n",
       "      <td>28.229300</td>\n",
       "      <td>20.229300</td>\n",
       "    </tr>\n",
       "  </tbody>\n",
       "</table>\n",
       "</div>"
      ],
      "text/plain": [
       "            actual  predictions       diff\n",
       "DATE                                      \n",
       "2021-03-29    69.0    44.637586  24.362414\n",
       "2021-05-24    92.0    70.149448  21.850552\n",
       "2021-12-10    64.0    42.483280  21.516720\n",
       "2021-04-22    67.0    45.677255  21.322745\n",
       "2022-01-14     8.0    28.229300  20.229300"
      ]
     },
     "execution_count": 69,
     "metadata": {},
     "output_type": "execute_result"
    }
   ],
   "source": [
    "combined.sort_values(\"diff\",ascending=False).head()"
   ]
  },
  {
   "cell_type": "markdown",
   "id": "86f19ad0-6259-4fac-ae66-90a4cc65a2f0",
   "metadata": {},
   "source": [
    "## Neural Prophet Forecasting"
   ]
  },
  {
   "cell_type": "markdown",
   "id": "c54ecf1c-4839-4a4c-af76-dcb25d261e14",
   "metadata": {},
   "source": [
    "Above we used linear regression to predict the temperature for 2021. As our data is a time series, we can use Neural Prophet to forecast weather for the future. Let's see if Neural Prophet gives us a better error metric than 5.54 degrees farenheit"
   ]
  },
  {
   "cell_type": "code",
   "execution_count": 72,
   "id": "97a99c25-d97a-4208-86e9-212b7811b9e0",
   "metadata": {},
   "outputs": [
    {
     "data": {
      "text/html": [
       "<div>\n",
       "<style scoped>\n",
       "    .dataframe tbody tr th:only-of-type {\n",
       "        vertical-align: middle;\n",
       "    }\n",
       "\n",
       "    .dataframe tbody tr th {\n",
       "        vertical-align: top;\n",
       "    }\n",
       "\n",
       "    .dataframe thead th {\n",
       "        text-align: right;\n",
       "    }\n",
       "</style>\n",
       "<table border=\"1\" class=\"dataframe\">\n",
       "  <thead>\n",
       "    <tr style=\"text-align: right;\">\n",
       "      <th></th>\n",
       "      <th>precip</th>\n",
       "      <th>snow</th>\n",
       "      <th>temp_max</th>\n",
       "      <th>temp_min</th>\n",
       "      <th>target</th>\n",
       "      <th>month_max</th>\n",
       "      <th>month_day_max</th>\n",
       "      <th>max_min</th>\n",
       "      <th>monthly_avg</th>\n",
       "      <th>day_of_year_avg</th>\n",
       "    </tr>\n",
       "    <tr>\n",
       "      <th>DATE</th>\n",
       "      <th></th>\n",
       "      <th></th>\n",
       "      <th></th>\n",
       "      <th></th>\n",
       "      <th></th>\n",
       "      <th></th>\n",
       "      <th></th>\n",
       "      <th></th>\n",
       "      <th></th>\n",
       "      <th></th>\n",
       "    </tr>\n",
       "  </thead>\n",
       "  <tbody>\n",
       "    <tr>\n",
       "      <th>2013-07-15</th>\n",
       "      <td>0.00</td>\n",
       "      <td>0.0</td>\n",
       "      <td>88.0</td>\n",
       "      <td>72.0</td>\n",
       "      <td>91.0</td>\n",
       "      <td>79.200000</td>\n",
       "      <td>0.900000</td>\n",
       "      <td>1.222222</td>\n",
       "      <td>88.000000</td>\n",
       "      <td>88.0</td>\n",
       "    </tr>\n",
       "    <tr>\n",
       "      <th>2013-07-16</th>\n",
       "      <td>0.00</td>\n",
       "      <td>0.0</td>\n",
       "      <td>91.0</td>\n",
       "      <td>72.0</td>\n",
       "      <td>95.0</td>\n",
       "      <td>79.800000</td>\n",
       "      <td>0.876923</td>\n",
       "      <td>1.263889</td>\n",
       "      <td>89.500000</td>\n",
       "      <td>91.0</td>\n",
       "    </tr>\n",
       "    <tr>\n",
       "      <th>2013-07-17</th>\n",
       "      <td>0.00</td>\n",
       "      <td>0.0</td>\n",
       "      <td>95.0</td>\n",
       "      <td>75.0</td>\n",
       "      <td>93.0</td>\n",
       "      <td>80.366667</td>\n",
       "      <td>0.845965</td>\n",
       "      <td>1.266667</td>\n",
       "      <td>91.333333</td>\n",
       "      <td>95.0</td>\n",
       "    </tr>\n",
       "    <tr>\n",
       "      <th>2013-07-18</th>\n",
       "      <td>0.00</td>\n",
       "      <td>0.0</td>\n",
       "      <td>93.0</td>\n",
       "      <td>75.0</td>\n",
       "      <td>95.0</td>\n",
       "      <td>80.833333</td>\n",
       "      <td>0.869176</td>\n",
       "      <td>1.240000</td>\n",
       "      <td>91.750000</td>\n",
       "      <td>93.0</td>\n",
       "    </tr>\n",
       "    <tr>\n",
       "      <th>2013-07-19</th>\n",
       "      <td>0.34</td>\n",
       "      <td>0.0</td>\n",
       "      <td>95.0</td>\n",
       "      <td>70.0</td>\n",
       "      <td>83.0</td>\n",
       "      <td>81.466667</td>\n",
       "      <td>0.857544</td>\n",
       "      <td>1.357143</td>\n",
       "      <td>92.400000</td>\n",
       "      <td>95.0</td>\n",
       "    </tr>\n",
       "  </tbody>\n",
       "</table>\n",
       "</div>"
      ],
      "text/plain": [
       "            precip  snow  temp_max  temp_min  target  month_max  \\\n",
       "DATE                                                              \n",
       "2013-07-15    0.00   0.0      88.0      72.0    91.0  79.200000   \n",
       "2013-07-16    0.00   0.0      91.0      72.0    95.0  79.800000   \n",
       "2013-07-17    0.00   0.0      95.0      75.0    93.0  80.366667   \n",
       "2013-07-18    0.00   0.0      93.0      75.0    95.0  80.833333   \n",
       "2013-07-19    0.34   0.0      95.0      70.0    83.0  81.466667   \n",
       "\n",
       "            month_day_max   max_min  monthly_avg  day_of_year_avg  \n",
       "DATE                                                               \n",
       "2013-07-15       0.900000  1.222222    88.000000             88.0  \n",
       "2013-07-16       0.876923  1.263889    89.500000             91.0  \n",
       "2013-07-17       0.845965  1.266667    91.333333             95.0  \n",
       "2013-07-18       0.869176  1.240000    91.750000             93.0  \n",
       "2013-07-19       0.857544  1.357143    92.400000             95.0  "
      ]
     },
     "execution_count": 72,
     "metadata": {},
     "output_type": "execute_result"
    }
   ],
   "source": [
    "## Display first 5 rows\n",
    "core_weather.head()"
   ]
  },
  {
   "cell_type": "markdown",
   "id": "7316aaaf-38d7-4732-8252-0714494514c0",
   "metadata": {},
   "source": [
    "Neural Prophet expects two columns the date column and the value we're trying to predict (temp_max)"
   ]
  },
  {
   "cell_type": "code",
   "execution_count": 106,
   "id": "27d70d87-25d5-49d8-8b7a-bd3c47e1d86b",
   "metadata": {},
   "outputs": [],
   "source": [
    "## Isolate max temperature\n",
    "core_weather_up = core_weather[[\"temp_max\"]]"
   ]
  },
  {
   "cell_type": "code",
   "execution_count": 107,
   "id": "f4b99542-c90d-4df7-bcf8-e38e908e434e",
   "metadata": {},
   "outputs": [],
   "source": [
    "## Create new date column \n",
    "core_weather_up[\"Date\"] = core_weather_up.index"
   ]
  },
  {
   "cell_type": "code",
   "execution_count": 110,
   "id": "76b314c6-7715-444c-9a39-c8017ad9bde5",
   "metadata": {},
   "outputs": [],
   "source": [
    "## Reorder columns\n",
    "core_weather_up = core_weather_up[[\"Date\",\"temp_max\"]]"
   ]
  },
  {
   "cell_type": "code",
   "execution_count": 111,
   "id": "e8a3be4b-5b96-4fe2-8565-ea8614537414",
   "metadata": {},
   "outputs": [],
   "source": [
    "## Reset index \n",
    "core_weather_up = core_weather_up.reset_index(drop=True)"
   ]
  },
  {
   "cell_type": "code",
   "execution_count": 114,
   "id": "7ea2c490-fbce-4c38-938e-2f8690623222",
   "metadata": {},
   "outputs": [],
   "source": [
    "## Rename Columns\n",
    "core_weather_up.columns = [\"ds\",\"y\"]"
   ]
  },
  {
   "cell_type": "code",
   "execution_count": 116,
   "id": "052ee0b0-3435-44ef-ac3a-1ede9c045e0c",
   "metadata": {},
   "outputs": [
    {
     "data": {
      "text/html": [
       "<div>\n",
       "<style scoped>\n",
       "    .dataframe tbody tr th:only-of-type {\n",
       "        vertical-align: middle;\n",
       "    }\n",
       "\n",
       "    .dataframe tbody tr th {\n",
       "        vertical-align: top;\n",
       "    }\n",
       "\n",
       "    .dataframe thead th {\n",
       "        text-align: right;\n",
       "    }\n",
       "</style>\n",
       "<table border=\"1\" class=\"dataframe\">\n",
       "  <thead>\n",
       "    <tr style=\"text-align: right;\">\n",
       "      <th></th>\n",
       "      <th>ds</th>\n",
       "      <th>y</th>\n",
       "    </tr>\n",
       "  </thead>\n",
       "  <tbody>\n",
       "    <tr>\n",
       "      <th>0</th>\n",
       "      <td>2013-07-15</td>\n",
       "      <td>88.0</td>\n",
       "    </tr>\n",
       "    <tr>\n",
       "      <th>1</th>\n",
       "      <td>2013-07-16</td>\n",
       "      <td>91.0</td>\n",
       "    </tr>\n",
       "    <tr>\n",
       "      <th>2</th>\n",
       "      <td>2013-07-17</td>\n",
       "      <td>95.0</td>\n",
       "    </tr>\n",
       "    <tr>\n",
       "      <th>3</th>\n",
       "      <td>2013-07-18</td>\n",
       "      <td>93.0</td>\n",
       "    </tr>\n",
       "    <tr>\n",
       "      <th>4</th>\n",
       "      <td>2013-07-19</td>\n",
       "      <td>95.0</td>\n",
       "    </tr>\n",
       "  </tbody>\n",
       "</table>\n",
       "</div>"
      ],
      "text/plain": [
       "          ds     y\n",
       "0 2013-07-15  88.0\n",
       "1 2013-07-16  91.0\n",
       "2 2013-07-17  95.0\n",
       "3 2013-07-18  93.0\n",
       "4 2013-07-19  95.0"
      ]
     },
     "execution_count": 116,
     "metadata": {},
     "output_type": "execute_result"
    }
   ],
   "source": [
    "core_weather_up.head()"
   ]
  },
  {
   "cell_type": "code",
   "execution_count": 122,
   "id": "08fd5552-cbbc-4428-8ef6-b6484549f133",
   "metadata": {},
   "outputs": [
    {
     "name": "stderr",
     "output_type": "stream",
     "text": [
      "INFO - (NP.utils.set_auto_seasonalities) - Disabling daily seasonality. Run NeuralProphet with daily_seasonality=True to override this.\n",
      "INFO - (NP.config.set_auto_batch_epoch) - Auto-set batch_size to 32\n"
     ]
    },
    {
     "data": {
      "application/vnd.jupyter.widget-view+json": {
       "model_id": "9f25747e1df544358ce1a8ba8314c6f4",
       "version_major": 2,
       "version_minor": 0
      },
      "text/plain": [
       "  0%|          | 0/274 [00:00<?, ?it/s]"
      ]
     },
     "metadata": {},
     "output_type": "display_data"
    },
    {
     "name": "stderr",
     "output_type": "stream",
     "text": [
      "INFO - (NP.utils_torch.lr_range_test) - lr-range-test results: steep: 5.05E-02, min: 1.22E+00\n"
     ]
    },
    {
     "data": {
      "application/vnd.jupyter.widget-view+json": {
       "model_id": "bc3fc40fac3943c081e2080ab3212e94",
       "version_major": 2,
       "version_minor": 0
      },
      "text/plain": [
       "  0%|          | 0/274 [00:00<?, ?it/s]"
      ]
     },
     "metadata": {},
     "output_type": "display_data"
    },
    {
     "name": "stderr",
     "output_type": "stream",
     "text": [
      "INFO - (NP.utils_torch.lr_range_test) - lr-range-test results: steep: 4.68E-02, min: 1.22E+00\n"
     ]
    },
    {
     "data": {
      "application/vnd.jupyter.widget-view+json": {
       "model_id": "e0b6a4bf665b4566966fe0738a6120aa",
       "version_major": 2,
       "version_minor": 0
      },
      "text/plain": [
       "  0%|          | 0/274 [00:00<?, ?it/s]"
      ]
     },
     "metadata": {},
     "output_type": "display_data"
    },
    {
     "name": "stderr",
     "output_type": "stream",
     "text": [
      "INFO - (NP.utils_torch.lr_range_test) - lr-range-test results: steep: 5.05E-02, min: 1.79E+00\n",
      "INFO - (NP.forecaster._init_train_loader) - lr-range-test selected learning rate: 4.92E-02\n",
      "Epoch[1000/1000]: 100%|██████████| 1000/1000 [03:40<00:00,  4.53it/s, SmoothL1Loss=0.00476, MAE=6.82, RMSE=8.61, RegLoss=0]\n"
     ]
    },
    {
     "data": {
      "text/html": [
       "<div>\n",
       "<style scoped>\n",
       "    .dataframe tbody tr th:only-of-type {\n",
       "        vertical-align: middle;\n",
       "    }\n",
       "\n",
       "    .dataframe tbody tr th {\n",
       "        vertical-align: top;\n",
       "    }\n",
       "\n",
       "    .dataframe thead th {\n",
       "        text-align: right;\n",
       "    }\n",
       "</style>\n",
       "<table border=\"1\" class=\"dataframe\">\n",
       "  <thead>\n",
       "    <tr style=\"text-align: right;\">\n",
       "      <th></th>\n",
       "      <th>SmoothL1Loss</th>\n",
       "      <th>MAE</th>\n",
       "      <th>RMSE</th>\n",
       "      <th>RegLoss</th>\n",
       "    </tr>\n",
       "  </thead>\n",
       "  <tbody>\n",
       "    <tr>\n",
       "      <th>0</th>\n",
       "      <td>1.180172</td>\n",
       "      <td>144.102091</td>\n",
       "      <td>174.190188</td>\n",
       "      <td>0.0</td>\n",
       "    </tr>\n",
       "    <tr>\n",
       "      <th>1</th>\n",
       "      <td>1.086191</td>\n",
       "      <td>135.363602</td>\n",
       "      <td>163.707303</td>\n",
       "      <td>0.0</td>\n",
       "    </tr>\n",
       "    <tr>\n",
       "      <th>2</th>\n",
       "      <td>0.993749</td>\n",
       "      <td>126.728378</td>\n",
       "      <td>153.676310</td>\n",
       "      <td>0.0</td>\n",
       "    </tr>\n",
       "    <tr>\n",
       "      <th>3</th>\n",
       "      <td>0.901843</td>\n",
       "      <td>118.108651</td>\n",
       "      <td>143.543882</td>\n",
       "      <td>0.0</td>\n",
       "    </tr>\n",
       "    <tr>\n",
       "      <th>4</th>\n",
       "      <td>0.811335</td>\n",
       "      <td>109.516064</td>\n",
       "      <td>133.516390</td>\n",
       "      <td>0.0</td>\n",
       "    </tr>\n",
       "    <tr>\n",
       "      <th>...</th>\n",
       "      <td>...</td>\n",
       "      <td>...</td>\n",
       "      <td>...</td>\n",
       "      <td>...</td>\n",
       "    </tr>\n",
       "    <tr>\n",
       "      <th>995</th>\n",
       "      <td>0.004758</td>\n",
       "      <td>6.818369</td>\n",
       "      <td>8.602376</td>\n",
       "      <td>0.0</td>\n",
       "    </tr>\n",
       "    <tr>\n",
       "      <th>996</th>\n",
       "      <td>0.004757</td>\n",
       "      <td>6.818220</td>\n",
       "      <td>8.604888</td>\n",
       "      <td>0.0</td>\n",
       "    </tr>\n",
       "    <tr>\n",
       "      <th>997</th>\n",
       "      <td>0.004757</td>\n",
       "      <td>6.818115</td>\n",
       "      <td>8.606435</td>\n",
       "      <td>0.0</td>\n",
       "    </tr>\n",
       "    <tr>\n",
       "      <th>998</th>\n",
       "      <td>0.004757</td>\n",
       "      <td>6.818024</td>\n",
       "      <td>8.630613</td>\n",
       "      <td>0.0</td>\n",
       "    </tr>\n",
       "    <tr>\n",
       "      <th>999</th>\n",
       "      <td>0.004757</td>\n",
       "      <td>6.818007</td>\n",
       "      <td>8.610552</td>\n",
       "      <td>0.0</td>\n",
       "    </tr>\n",
       "  </tbody>\n",
       "</table>\n",
       "<p>1000 rows × 4 columns</p>\n",
       "</div>"
      ],
      "text/plain": [
       "     SmoothL1Loss         MAE        RMSE  RegLoss\n",
       "0        1.180172  144.102091  174.190188      0.0\n",
       "1        1.086191  135.363602  163.707303      0.0\n",
       "2        0.993749  126.728378  153.676310      0.0\n",
       "3        0.901843  118.108651  143.543882      0.0\n",
       "4        0.811335  109.516064  133.516390      0.0\n",
       "..            ...         ...         ...      ...\n",
       "995      0.004758    6.818369    8.602376      0.0\n",
       "996      0.004757    6.818220    8.604888      0.0\n",
       "997      0.004757    6.818115    8.606435      0.0\n",
       "998      0.004757    6.818024    8.630613      0.0\n",
       "999      0.004757    6.818007    8.610552      0.0\n",
       "\n",
       "[1000 rows x 4 columns]"
      ]
     },
     "execution_count": 122,
     "metadata": {},
     "output_type": "execute_result"
    }
   ],
   "source": [
    "from neuralprophet import NeuralProphet\n",
    "\n",
    "## Create neural prophet model\n",
    "m= NeuralProphet()\n",
    "\n",
    "## Train model\n",
    "m.fit(core_weather_up, freq=\"D\", epochs=1000)"
   ]
  },
  {
   "cell_type": "markdown",
   "id": "6ca85d77-6944-4218-81ab-4548e7af9438",
   "metadata": {},
   "source": [
    "The Neural prophet model gives us a Mean Average Error metric of 6.82 degrees farenheit which is worse than our linear regression model"
   ]
  },
  {
   "cell_type": "code",
   "execution_count": 124,
   "id": "f67ee03b-c734-4e6f-92b2-67b84991b155",
   "metadata": {},
   "outputs": [
    {
     "data": {
      "text/html": [
       "<div>\n",
       "<style scoped>\n",
       "    .dataframe tbody tr th:only-of-type {\n",
       "        vertical-align: middle;\n",
       "    }\n",
       "\n",
       "    .dataframe tbody tr th {\n",
       "        vertical-align: top;\n",
       "    }\n",
       "\n",
       "    .dataframe thead th {\n",
       "        text-align: right;\n",
       "    }\n",
       "</style>\n",
       "<table border=\"1\" class=\"dataframe\">\n",
       "  <thead>\n",
       "    <tr style=\"text-align: right;\">\n",
       "      <th></th>\n",
       "      <th>ds</th>\n",
       "      <th>y</th>\n",
       "      <th>yhat1</th>\n",
       "      <th>residual1</th>\n",
       "      <th>trend</th>\n",
       "      <th>season_yearly</th>\n",
       "      <th>season_weekly</th>\n",
       "    </tr>\n",
       "  </thead>\n",
       "  <tbody>\n",
       "    <tr>\n",
       "      <th>0</th>\n",
       "      <td>2022-02-12</td>\n",
       "      <td>None</td>\n",
       "      <td>30.014965</td>\n",
       "      <td>NaN</td>\n",
       "      <td>57.655270</td>\n",
       "      <td>-26.903353</td>\n",
       "      <td>-0.736951</td>\n",
       "    </tr>\n",
       "    <tr>\n",
       "      <th>1</th>\n",
       "      <td>2022-02-13</td>\n",
       "      <td>None</td>\n",
       "      <td>30.840332</td>\n",
       "      <td>NaN</td>\n",
       "      <td>57.654442</td>\n",
       "      <td>-26.745209</td>\n",
       "      <td>-0.068902</td>\n",
       "    </tr>\n",
       "    <tr>\n",
       "      <th>2</th>\n",
       "      <td>2022-02-14</td>\n",
       "      <td>None</td>\n",
       "      <td>31.489357</td>\n",
       "      <td>NaN</td>\n",
       "      <td>57.653606</td>\n",
       "      <td>-26.569511</td>\n",
       "      <td>0.405258</td>\n",
       "    </tr>\n",
       "    <tr>\n",
       "      <th>3</th>\n",
       "      <td>2022-02-15</td>\n",
       "      <td>None</td>\n",
       "      <td>31.596699</td>\n",
       "      <td>NaN</td>\n",
       "      <td>57.652779</td>\n",
       "      <td>-26.376190</td>\n",
       "      <td>0.320109</td>\n",
       "    </tr>\n",
       "    <tr>\n",
       "      <th>4</th>\n",
       "      <td>2022-02-16</td>\n",
       "      <td>None</td>\n",
       "      <td>31.936768</td>\n",
       "      <td>NaN</td>\n",
       "      <td>57.651947</td>\n",
       "      <td>-26.165268</td>\n",
       "      <td>0.450088</td>\n",
       "    </tr>\n",
       "  </tbody>\n",
       "</table>\n",
       "</div>"
      ],
      "text/plain": [
       "          ds     y      yhat1 residual1      trend  season_yearly  \\\n",
       "0 2022-02-12  None  30.014965       NaN  57.655270     -26.903353   \n",
       "1 2022-02-13  None  30.840332       NaN  57.654442     -26.745209   \n",
       "2 2022-02-14  None  31.489357       NaN  57.653606     -26.569511   \n",
       "3 2022-02-15  None  31.596699       NaN  57.652779     -26.376190   \n",
       "4 2022-02-16  None  31.936768       NaN  57.651947     -26.165268   \n",
       "\n",
       "   season_weekly  \n",
       "0      -0.736951  \n",
       "1      -0.068902  \n",
       "2       0.405258  \n",
       "3       0.320109  \n",
       "4       0.450088  "
      ]
     },
     "execution_count": 124,
     "metadata": {},
     "output_type": "execute_result"
    }
   ],
   "source": [
    "## Create future dataframe consisting of 900 days from our current datafram\n",
    "future = m.make_future_dataframe(core_weather_up,periods=900)\n",
    "\n",
    "## Predict future using neural prophet model\n",
    "forecast = m.predict(future)\n",
    "forecast.head()"
   ]
  },
  {
   "cell_type": "code",
   "execution_count": 125,
   "id": "e395a764-d46a-4164-9940-5a9445fa4bf8",
   "metadata": {},
   "outputs": [
    {
     "data": {
      "text/html": [
       "<div>\n",
       "<style scoped>\n",
       "    .dataframe tbody tr th:only-of-type {\n",
       "        vertical-align: middle;\n",
       "    }\n",
       "\n",
       "    .dataframe tbody tr th {\n",
       "        vertical-align: top;\n",
       "    }\n",
       "\n",
       "    .dataframe thead th {\n",
       "        text-align: right;\n",
       "    }\n",
       "</style>\n",
       "<table border=\"1\" class=\"dataframe\">\n",
       "  <thead>\n",
       "    <tr style=\"text-align: right;\">\n",
       "      <th></th>\n",
       "      <th>ds</th>\n",
       "      <th>y</th>\n",
       "      <th>yhat1</th>\n",
       "      <th>residual1</th>\n",
       "      <th>trend</th>\n",
       "      <th>season_yearly</th>\n",
       "      <th>season_weekly</th>\n",
       "    </tr>\n",
       "  </thead>\n",
       "  <tbody>\n",
       "    <tr>\n",
       "      <th>895</th>\n",
       "      <td>2024-07-26</td>\n",
       "      <td>None</td>\n",
       "      <td>82.210243</td>\n",
       "      <td>NaN</td>\n",
       "      <td>56.912540</td>\n",
       "      <td>25.556467</td>\n",
       "      <td>-0.258768</td>\n",
       "    </tr>\n",
       "    <tr>\n",
       "      <th>896</th>\n",
       "      <td>2024-07-27</td>\n",
       "      <td>None</td>\n",
       "      <td>81.725838</td>\n",
       "      <td>NaN</td>\n",
       "      <td>56.911713</td>\n",
       "      <td>25.551077</td>\n",
       "      <td>-0.736951</td>\n",
       "    </tr>\n",
       "    <tr>\n",
       "      <th>897</th>\n",
       "      <td>2024-07-28</td>\n",
       "      <td>None</td>\n",
       "      <td>82.380203</td>\n",
       "      <td>NaN</td>\n",
       "      <td>56.910881</td>\n",
       "      <td>25.538223</td>\n",
       "      <td>-0.068902</td>\n",
       "    </tr>\n",
       "    <tr>\n",
       "      <th>898</th>\n",
       "      <td>2024-07-29</td>\n",
       "      <td>None</td>\n",
       "      <td>82.833130</td>\n",
       "      <td>NaN</td>\n",
       "      <td>56.910053</td>\n",
       "      <td>25.517824</td>\n",
       "      <td>0.405258</td>\n",
       "    </tr>\n",
       "    <tr>\n",
       "      <th>899</th>\n",
       "      <td>2024-07-30</td>\n",
       "      <td>None</td>\n",
       "      <td>82.719185</td>\n",
       "      <td>NaN</td>\n",
       "      <td>56.909222</td>\n",
       "      <td>25.489857</td>\n",
       "      <td>0.320109</td>\n",
       "    </tr>\n",
       "  </tbody>\n",
       "</table>\n",
       "</div>"
      ],
      "text/plain": [
       "            ds     y      yhat1 residual1      trend  season_yearly  \\\n",
       "895 2024-07-26  None  82.210243       NaN  56.912540      25.556467   \n",
       "896 2024-07-27  None  81.725838       NaN  56.911713      25.551077   \n",
       "897 2024-07-28  None  82.380203       NaN  56.910881      25.538223   \n",
       "898 2024-07-29  None  82.833130       NaN  56.910053      25.517824   \n",
       "899 2024-07-30  None  82.719185       NaN  56.909222      25.489857   \n",
       "\n",
       "     season_weekly  \n",
       "895      -0.258768  \n",
       "896      -0.736951  \n",
       "897      -0.068902  \n",
       "898       0.405258  \n",
       "899       0.320109  "
      ]
     },
     "execution_count": 125,
     "metadata": {},
     "output_type": "execute_result"
    }
   ],
   "source": [
    "forecast.tail()"
   ]
  },
  {
   "cell_type": "code",
   "execution_count": null,
   "id": "024f0e63-926d-43d2-a2d7-c88c56f4d325",
   "metadata": {},
   "outputs": [
    {
     "data": {
      "image/png": "[encoded data removed]",
      "text/plain": [
       "<Figure size 720x432 with 1 Axes>"
      ]
     },
     "metadata": {},
     "output_type": "display_data"
    }
   ],
   "source": [
    "## plot the forecast for the future \n",
    "plot1 = m.plot(forecast)"
   ]
  },
  {
   "cell_type": "markdown",
   "id": "8d10fe44-5f88-4a23-bc68-8b4e6583ac4d",
   "metadata": {},
   "source": [
    "We can see that the forecast follows a trend - the temperature is high in the summer months and low in the winter months"
   ]
  },
  {
   "cell_type": "code",
   "execution_count": 127,
   "id": "03f04f54-b019-40c2-915a-3e6f83cd063b",
   "metadata": {},
   "outputs": [
    {
     "data": {
      "image/png": "[encoded data removed]",
      "text/plain": [
       "<Figure size 720x648 with 3 Axes>"
      ]
     },
     "metadata": {},
     "output_type": "display_data"
    }
   ],
   "source": [
    "## Plot the various components of the forecast\n",
    "plot2 = m.plot_components(forecast)"
   ]
  },
  {
   "cell_type": "markdown",
   "id": "b9b03755-44c7-4004-b912-57bd9f7465f6",
   "metadata": {},
   "source": [
    "Analyzing the above plots we can see that the temperature is actually trending down yearly meaning the max temperature is decreasing every year. Also, the seasonal plot shows that temperatures peak from May to August and are at their lowest in January and February"
   ]
  },
  {
   "cell_type": "markdown",
   "id": "f33ddd42-83cf-421c-8f66-fbeab7b9fa20",
   "metadata": {},
   "source": [
    "# Summary\n",
    "\n"
   ]
  },
  {
   "cell_type": "markdown",
   "id": "60d8ce26-a464-4b3c-bd24-26deec9fea49",
   "metadata": {},
   "source": [
    "For this analysis we set out to predict the weather for Toronto using weather data from the Pearson International Airport using machine learning. We went through the process of:\n",
    "\n",
    "- Cleaning the data\n",
    "\n",
    "- Preparing the data for our machine learning algorithm\n",
    "\n",
    "- Created test and train sets to predict the weather for any day in 2021 using linear regression\n",
    "\n",
    "- Used a Neural Prophet model to forecast weather for the next 3 years\n",
    "\n",
    "\n",
    "Ultimately, weather is a complex phenomenon to predict and there isn't necessarily one algorithm to come to a conclusion. After our analysis, we managed to get our linear regression algorithm to predict a mean squared error metric of 5.54 - meaning predictions for 2021 onward were off by 5.54 degrees farenheit. \n",
    "We then used a Neural Prophet model to forecast temperatures for the next three years and got an error metric of 6.82 degrees which is higher than that of our linear regression model. This is most likely due to the lack of variables passed to the model, as the neural prophet model only allows 2 (the date and the variable we want o predict). We can take our next steps by exploring other algorithms and adding more predictors in the future."
   ]
  },
  {
   "cell_type": "code",
   "execution_count": null,
   "id": "5ddef82a-cd00-4fa2-8f05-3ba3f933b3e6",
   "metadata": {},
   "outputs": [],
   "source": []
  }
 ],
 "metadata": {
  "kernelspec": {
   "display_name": "Python 3 (ipykernel)",
   "language": "python",
   "name": "python3"
  },
  "language_info": {
   "codemirror_mode": {
    "name": "ipython",
    "version": 3
   },
   "file_extension": ".py",
   "mimetype": "text/x-python",
   "name": "python",
   "nbconvert_exporter": "python",
   "pygments_lexer": "ipython3",
   "version": "3.9.7"
  }
 },
 "nbformat": 4,
 "nbformat_minor": 5
}
